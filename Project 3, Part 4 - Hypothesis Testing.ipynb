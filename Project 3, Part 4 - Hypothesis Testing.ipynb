{
 "cells": [
  {
   "cell_type": "markdown",
   "id": "0d35612f",
   "metadata": {},
   "source": [
    "# Project 3, Part 4 - Hypothesis Testing\n",
    "\n",
    "Kris Barbier"
   ]
  },
  {
   "cell_type": "markdown",
   "id": "420aaa2b",
   "metadata": {},
   "source": [
    "## Imports"
   ]
  },
  {
   "cell_type": "code",
   "execution_count": 1,
   "id": "8a391c81",
   "metadata": {},
   "outputs": [],
   "source": [
    "#Imports\n",
    "import pandas as pd\n",
    "import numpy as np\n",
    "import matplotlib.pyplot as plt\n",
    "import seaborn as sns\n",
    "import json\n",
    "import glob\n",
    "from scipy import stats\n",
    "pd.set_option('display.max_columns',100)"
   ]
  },
  {
   "cell_type": "markdown",
   "id": "33f86e53",
   "metadata": {},
   "source": [
    "## Combine Data"
   ]
  },
  {
   "cell_type": "code",
   "execution_count": 2,
   "id": "09bc44a6",
   "metadata": {},
   "outputs": [
    {
     "data": {
      "text/plain": [
       "['.ipynb_checkpoints',\n",
       " 'akas.csv.gz',\n",
       " 'combined_tmdb_data.csv.gz',\n",
       " 'final_tmdb_data_2000.csv.gz',\n",
       " 'final_tmdb_data_2001.csv.gz',\n",
       " 'final_tmdb_data_2002.csv.gz',\n",
       " 'final_tmdb_data_2003.csv.gz',\n",
       " 'final_tmdb_data_2004.csv.gz',\n",
       " 'final_tmdb_data_2005.csv.gz',\n",
       " 'final_tmdb_data_2006.csv.gz',\n",
       " 'final_tmdb_data_2007.csv.gz',\n",
       " 'final_tmdb_data_2008.csv.gz',\n",
       " 'final_tmdb_data_2009.csv.gz',\n",
       " 'title_basics.csv.gz',\n",
       " 'title_ratings.csv.gz',\n",
       " 'tmdb_api_results_2000.json',\n",
       " 'tmdb_api_results_2001.json',\n",
       " 'tmdb_api_results_2002.json',\n",
       " 'tmdb_api_results_2003.json',\n",
       " 'tmdb_api_results_2004.json',\n",
       " 'tmdb_api_results_2005.json',\n",
       " 'tmdb_api_results_2006.json',\n",
       " 'tmdb_api_results_2007.json',\n",
       " 'tmdb_api_results_2008.json',\n",
       " 'tmdb_api_results_2009.json',\n",
       " 'tmdb_results_combined.csv.gz']"
      ]
     },
     "execution_count": 2,
     "metadata": {},
     "output_type": "execute_result"
    }
   ],
   "source": [
    "#Check data that exists in Data folder\n",
    "import os\n",
    "FOLDER = 'Data/'\n",
    "file_list = sorted(os.listdir(FOLDER))\n",
    "file_list"
   ]
  },
  {
   "cell_type": "code",
   "execution_count": 3,
   "id": "076156c0",
   "metadata": {},
   "outputs": [
    {
     "name": "stdout",
     "output_type": "stream",
     "text": [
      "Data/final_*csv.gz\n"
     ]
    },
    {
     "data": {
      "text/plain": [
       "['Data/final_tmdb_data_2000.csv.gz',\n",
       " 'Data/final_tmdb_data_2001.csv.gz',\n",
       " 'Data/final_tmdb_data_2002.csv.gz',\n",
       " 'Data/final_tmdb_data_2003.csv.gz',\n",
       " 'Data/final_tmdb_data_2004.csv.gz',\n",
       " 'Data/final_tmdb_data_2005.csv.gz',\n",
       " 'Data/final_tmdb_data_2006.csv.gz',\n",
       " 'Data/final_tmdb_data_2007.csv.gz',\n",
       " 'Data/final_tmdb_data_2008.csv.gz',\n",
       " 'Data/final_tmdb_data_2009.csv.gz']"
      ]
     },
     "execution_count": 3,
     "metadata": {},
     "output_type": "execute_result"
    }
   ],
   "source": [
    "#Use glob to find final_tmdb_data csv files\n",
    "q = FOLDER+\"final_*csv.gz\"\n",
    "print(q)\n",
    "file_list = sorted(glob.glob(q))\n",
    "file_list"
   ]
  },
  {
   "cell_type": "code",
   "execution_count": 4,
   "id": "40e86849",
   "metadata": {},
   "outputs": [
    {
     "data": {
      "text/html": [
       "<div>\n",
       "<style scoped>\n",
       "    .dataframe tbody tr th:only-of-type {\n",
       "        vertical-align: middle;\n",
       "    }\n",
       "\n",
       "    .dataframe tbody tr th {\n",
       "        vertical-align: top;\n",
       "    }\n",
       "\n",
       "    .dataframe thead th {\n",
       "        text-align: right;\n",
       "    }\n",
       "</style>\n",
       "<table border=\"1\" class=\"dataframe\">\n",
       "  <thead>\n",
       "    <tr style=\"text-align: right;\">\n",
       "      <th></th>\n",
       "      <th>imdb_id</th>\n",
       "      <th>adult</th>\n",
       "      <th>backdrop_path</th>\n",
       "      <th>belongs_to_collection</th>\n",
       "      <th>budget</th>\n",
       "      <th>genres</th>\n",
       "      <th>homepage</th>\n",
       "      <th>id</th>\n",
       "      <th>original_language</th>\n",
       "      <th>original_title</th>\n",
       "      <th>overview</th>\n",
       "      <th>popularity</th>\n",
       "      <th>poster_path</th>\n",
       "      <th>production_companies</th>\n",
       "      <th>production_countries</th>\n",
       "      <th>release_date</th>\n",
       "      <th>revenue</th>\n",
       "      <th>runtime</th>\n",
       "      <th>spoken_languages</th>\n",
       "      <th>status</th>\n",
       "      <th>tagline</th>\n",
       "      <th>title</th>\n",
       "      <th>video</th>\n",
       "      <th>vote_average</th>\n",
       "      <th>vote_count</th>\n",
       "      <th>certification</th>\n",
       "    </tr>\n",
       "  </thead>\n",
       "  <tbody>\n",
       "    <tr>\n",
       "      <th>0</th>\n",
       "      <td>0</td>\n",
       "      <td>NaN</td>\n",
       "      <td>NaN</td>\n",
       "      <td>NaN</td>\n",
       "      <td>NaN</td>\n",
       "      <td>NaN</td>\n",
       "      <td>NaN</td>\n",
       "      <td>NaN</td>\n",
       "      <td>NaN</td>\n",
       "      <td>NaN</td>\n",
       "      <td>NaN</td>\n",
       "      <td>NaN</td>\n",
       "      <td>NaN</td>\n",
       "      <td>NaN</td>\n",
       "      <td>NaN</td>\n",
       "      <td>NaN</td>\n",
       "      <td>NaN</td>\n",
       "      <td>NaN</td>\n",
       "      <td>NaN</td>\n",
       "      <td>NaN</td>\n",
       "      <td>NaN</td>\n",
       "      <td>NaN</td>\n",
       "      <td>NaN</td>\n",
       "      <td>NaN</td>\n",
       "      <td>NaN</td>\n",
       "      <td>NaN</td>\n",
       "    </tr>\n",
       "    <tr>\n",
       "      <th>1</th>\n",
       "      <td>tt0113026</td>\n",
       "      <td>0.0</td>\n",
       "      <td>/vMFs7nw6P0bIV1jDsQpxAieAVnH.jpg</td>\n",
       "      <td>NaN</td>\n",
       "      <td>10000000.0</td>\n",
       "      <td>[{'id': 35, 'name': 'Comedy'}, {'id': 10402, '...</td>\n",
       "      <td>NaN</td>\n",
       "      <td>62127.0</td>\n",
       "      <td>en</td>\n",
       "      <td>The Fantasticks</td>\n",
       "      <td>Two rural teens sing and dance their way throu...</td>\n",
       "      <td>1.611</td>\n",
       "      <td>/hfO64mXz3DgUxkBVU7no2UWRP7x.jpg</td>\n",
       "      <td>[{'id': 51207, 'logo_path': None, 'name': 'Sul...</td>\n",
       "      <td>[{'iso_3166_1': 'US', 'name': 'United States o...</td>\n",
       "      <td>2000-09-22</td>\n",
       "      <td>0.0</td>\n",
       "      <td>86.0</td>\n",
       "      <td>[{'english_name': 'English', 'iso_639_1': 'en'...</td>\n",
       "      <td>Released</td>\n",
       "      <td>Try to remember the first time magic happened</td>\n",
       "      <td>The Fantasticks</td>\n",
       "      <td>0.0</td>\n",
       "      <td>5.50</td>\n",
       "      <td>22.0</td>\n",
       "      <td>NaN</td>\n",
       "    </tr>\n",
       "    <tr>\n",
       "      <th>2</th>\n",
       "      <td>tt0113092</td>\n",
       "      <td>0.0</td>\n",
       "      <td>NaN</td>\n",
       "      <td>NaN</td>\n",
       "      <td>0.0</td>\n",
       "      <td>[{'id': 878, 'name': 'Science Fiction'}]</td>\n",
       "      <td>NaN</td>\n",
       "      <td>110977.0</td>\n",
       "      <td>en</td>\n",
       "      <td>For the Cause</td>\n",
       "      <td>Earth is in a state of constant war and two co...</td>\n",
       "      <td>1.740</td>\n",
       "      <td>/h9bWO13nWRGZJo4XVPiElXyrRMU.jpg</td>\n",
       "      <td>[{'id': 7405, 'logo_path': '/rfnws0uY8rsNAsrLb...</td>\n",
       "      <td>[{'iso_3166_1': 'US', 'name': 'United States o...</td>\n",
       "      <td>2000-11-15</td>\n",
       "      <td>0.0</td>\n",
       "      <td>100.0</td>\n",
       "      <td>[{'english_name': 'English', 'iso_639_1': 'en'...</td>\n",
       "      <td>Released</td>\n",
       "      <td>The ultimate showdown on a forbidden planet.</td>\n",
       "      <td>For the Cause</td>\n",
       "      <td>0.0</td>\n",
       "      <td>5.45</td>\n",
       "      <td>10.0</td>\n",
       "      <td>NaN</td>\n",
       "    </tr>\n",
       "    <tr>\n",
       "      <th>3</th>\n",
       "      <td>tt0116391</td>\n",
       "      <td>0.0</td>\n",
       "      <td>NaN</td>\n",
       "      <td>NaN</td>\n",
       "      <td>0.0</td>\n",
       "      <td>[{'id': 18, 'name': 'Drama'}, {'id': 28, 'name...</td>\n",
       "      <td>NaN</td>\n",
       "      <td>442869.0</td>\n",
       "      <td>hi</td>\n",
       "      <td>Gang</td>\n",
       "      <td>After falling prey to underworld, four friends...</td>\n",
       "      <td>0.951</td>\n",
       "      <td>/yB5wRu4uyXXwZA3PEj8cITu0xt3.jpg</td>\n",
       "      <td>[]</td>\n",
       "      <td>[{'iso_3166_1': 'IN', 'name': 'India'}]</td>\n",
       "      <td>2000-04-14</td>\n",
       "      <td>0.0</td>\n",
       "      <td>152.0</td>\n",
       "      <td>[{'english_name': 'Hindi', 'iso_639_1': 'hi', ...</td>\n",
       "      <td>Released</td>\n",
       "      <td>NaN</td>\n",
       "      <td>Gang</td>\n",
       "      <td>0.0</td>\n",
       "      <td>4.00</td>\n",
       "      <td>1.0</td>\n",
       "      <td>NaN</td>\n",
       "    </tr>\n",
       "    <tr>\n",
       "      <th>4</th>\n",
       "      <td>tt0118694</td>\n",
       "      <td>0.0</td>\n",
       "      <td>/n4GJFGzsc7NinI1VeGDXIcQjtU2.jpg</td>\n",
       "      <td>NaN</td>\n",
       "      <td>150000.0</td>\n",
       "      <td>[{'id': 18, 'name': 'Drama'}, {'id': 10749, 'n...</td>\n",
       "      <td>NaN</td>\n",
       "      <td>843.0</td>\n",
       "      <td>cn</td>\n",
       "      <td>花樣年華</td>\n",
       "      <td>Two neighbors become intimate after discoverin...</td>\n",
       "      <td>19.202</td>\n",
       "      <td>/iYypPT4bhqXfq1b6EnmxvRt6b2Y.jpg</td>\n",
       "      <td>[{'id': 539, 'logo_path': '/iPLtePguIzOPNtAWfT...</td>\n",
       "      <td>[{'iso_3166_1': 'FR', 'name': 'France'}, {'iso...</td>\n",
       "      <td>2000-09-29</td>\n",
       "      <td>14204632.0</td>\n",
       "      <td>99.0</td>\n",
       "      <td>[{'english_name': 'Cantonese', 'iso_639_1': 'c...</td>\n",
       "      <td>Released</td>\n",
       "      <td>Feel the heat, keep the feeling burning, let t...</td>\n",
       "      <td>In the Mood for Love</td>\n",
       "      <td>0.0</td>\n",
       "      <td>8.10</td>\n",
       "      <td>2298.0</td>\n",
       "      <td>PG</td>\n",
       "    </tr>\n",
       "  </tbody>\n",
       "</table>\n",
       "</div>"
      ],
      "text/plain": [
       "     imdb_id  adult                     backdrop_path belongs_to_collection  \\\n",
       "0          0    NaN                               NaN                   NaN   \n",
       "1  tt0113026    0.0  /vMFs7nw6P0bIV1jDsQpxAieAVnH.jpg                   NaN   \n",
       "2  tt0113092    0.0                               NaN                   NaN   \n",
       "3  tt0116391    0.0                               NaN                   NaN   \n",
       "4  tt0118694    0.0  /n4GJFGzsc7NinI1VeGDXIcQjtU2.jpg                   NaN   \n",
       "\n",
       "       budget                                             genres homepage  \\\n",
       "0         NaN                                                NaN      NaN   \n",
       "1  10000000.0  [{'id': 35, 'name': 'Comedy'}, {'id': 10402, '...      NaN   \n",
       "2         0.0           [{'id': 878, 'name': 'Science Fiction'}]      NaN   \n",
       "3         0.0  [{'id': 18, 'name': 'Drama'}, {'id': 28, 'name...      NaN   \n",
       "4    150000.0  [{'id': 18, 'name': 'Drama'}, {'id': 10749, 'n...      NaN   \n",
       "\n",
       "         id original_language   original_title  \\\n",
       "0       NaN               NaN              NaN   \n",
       "1   62127.0                en  The Fantasticks   \n",
       "2  110977.0                en    For the Cause   \n",
       "3  442869.0                hi             Gang   \n",
       "4     843.0                cn             花樣年華   \n",
       "\n",
       "                                            overview  popularity  \\\n",
       "0                                                NaN         NaN   \n",
       "1  Two rural teens sing and dance their way throu...       1.611   \n",
       "2  Earth is in a state of constant war and two co...       1.740   \n",
       "3  After falling prey to underworld, four friends...       0.951   \n",
       "4  Two neighbors become intimate after discoverin...      19.202   \n",
       "\n",
       "                        poster_path  \\\n",
       "0                               NaN   \n",
       "1  /hfO64mXz3DgUxkBVU7no2UWRP7x.jpg   \n",
       "2  /h9bWO13nWRGZJo4XVPiElXyrRMU.jpg   \n",
       "3  /yB5wRu4uyXXwZA3PEj8cITu0xt3.jpg   \n",
       "4  /iYypPT4bhqXfq1b6EnmxvRt6b2Y.jpg   \n",
       "\n",
       "                                production_companies  \\\n",
       "0                                                NaN   \n",
       "1  [{'id': 51207, 'logo_path': None, 'name': 'Sul...   \n",
       "2  [{'id': 7405, 'logo_path': '/rfnws0uY8rsNAsrLb...   \n",
       "3                                                 []   \n",
       "4  [{'id': 539, 'logo_path': '/iPLtePguIzOPNtAWfT...   \n",
       "\n",
       "                                production_countries release_date     revenue  \\\n",
       "0                                                NaN          NaN         NaN   \n",
       "1  [{'iso_3166_1': 'US', 'name': 'United States o...   2000-09-22         0.0   \n",
       "2  [{'iso_3166_1': 'US', 'name': 'United States o...   2000-11-15         0.0   \n",
       "3            [{'iso_3166_1': 'IN', 'name': 'India'}]   2000-04-14         0.0   \n",
       "4  [{'iso_3166_1': 'FR', 'name': 'France'}, {'iso...   2000-09-29  14204632.0   \n",
       "\n",
       "   runtime                                   spoken_languages    status  \\\n",
       "0      NaN                                                NaN       NaN   \n",
       "1     86.0  [{'english_name': 'English', 'iso_639_1': 'en'...  Released   \n",
       "2    100.0  [{'english_name': 'English', 'iso_639_1': 'en'...  Released   \n",
       "3    152.0  [{'english_name': 'Hindi', 'iso_639_1': 'hi', ...  Released   \n",
       "4     99.0  [{'english_name': 'Cantonese', 'iso_639_1': 'c...  Released   \n",
       "\n",
       "                                             tagline                 title  \\\n",
       "0                                                NaN                   NaN   \n",
       "1      Try to remember the first time magic happened       The Fantasticks   \n",
       "2       The ultimate showdown on a forbidden planet.         For the Cause   \n",
       "3                                                NaN                  Gang   \n",
       "4  Feel the heat, keep the feeling burning, let t...  In the Mood for Love   \n",
       "\n",
       "   video  vote_average  vote_count certification  \n",
       "0    NaN           NaN         NaN           NaN  \n",
       "1    0.0          5.50        22.0           NaN  \n",
       "2    0.0          5.45        10.0           NaN  \n",
       "3    0.0          4.00         1.0           NaN  \n",
       "4    0.0          8.10      2298.0            PG  "
      ]
     },
     "execution_count": 4,
     "metadata": {},
     "output_type": "execute_result"
    }
   ],
   "source": [
    "#Use list comprehension to load all files into 1 data frame\n",
    "df = pd.concat([pd.read_csv(f, lineterminator = '\\n') for f in file_list])\n",
    "df.head()"
   ]
  },
  {
   "cell_type": "code",
   "execution_count": 5,
   "id": "2f8bf003",
   "metadata": {},
   "outputs": [
    {
     "data": {
      "text/html": [
       "<div>\n",
       "<style scoped>\n",
       "    .dataframe tbody tr th:only-of-type {\n",
       "        vertical-align: middle;\n",
       "    }\n",
       "\n",
       "    .dataframe tbody tr th {\n",
       "        vertical-align: top;\n",
       "    }\n",
       "\n",
       "    .dataframe thead th {\n",
       "        text-align: right;\n",
       "    }\n",
       "</style>\n",
       "<table border=\"1\" class=\"dataframe\">\n",
       "  <thead>\n",
       "    <tr style=\"text-align: right;\">\n",
       "      <th></th>\n",
       "      <th>imdb_id</th>\n",
       "      <th>adult</th>\n",
       "      <th>backdrop_path</th>\n",
       "      <th>belongs_to_collection</th>\n",
       "      <th>budget</th>\n",
       "      <th>genres</th>\n",
       "      <th>homepage</th>\n",
       "      <th>id</th>\n",
       "      <th>original_language</th>\n",
       "      <th>original_title</th>\n",
       "      <th>overview</th>\n",
       "      <th>popularity</th>\n",
       "      <th>poster_path</th>\n",
       "      <th>production_companies</th>\n",
       "      <th>production_countries</th>\n",
       "      <th>release_date</th>\n",
       "      <th>revenue</th>\n",
       "      <th>runtime</th>\n",
       "      <th>spoken_languages</th>\n",
       "      <th>status</th>\n",
       "      <th>tagline</th>\n",
       "      <th>title</th>\n",
       "      <th>video</th>\n",
       "      <th>vote_average</th>\n",
       "      <th>vote_count</th>\n",
       "      <th>certification</th>\n",
       "    </tr>\n",
       "  </thead>\n",
       "  <tbody>\n",
       "    <tr>\n",
       "      <th>1</th>\n",
       "      <td>tt0113026</td>\n",
       "      <td>0.0</td>\n",
       "      <td>/vMFs7nw6P0bIV1jDsQpxAieAVnH.jpg</td>\n",
       "      <td>NaN</td>\n",
       "      <td>10000000.0</td>\n",
       "      <td>[{'id': 35, 'name': 'Comedy'}, {'id': 10402, '...</td>\n",
       "      <td>NaN</td>\n",
       "      <td>62127.0</td>\n",
       "      <td>en</td>\n",
       "      <td>The Fantasticks</td>\n",
       "      <td>Two rural teens sing and dance their way throu...</td>\n",
       "      <td>1.611</td>\n",
       "      <td>/hfO64mXz3DgUxkBVU7no2UWRP7x.jpg</td>\n",
       "      <td>[{'id': 51207, 'logo_path': None, 'name': 'Sul...</td>\n",
       "      <td>[{'iso_3166_1': 'US', 'name': 'United States o...</td>\n",
       "      <td>2000-09-22</td>\n",
       "      <td>0.0</td>\n",
       "      <td>86.0</td>\n",
       "      <td>[{'english_name': 'English', 'iso_639_1': 'en'...</td>\n",
       "      <td>Released</td>\n",
       "      <td>Try to remember the first time magic happened</td>\n",
       "      <td>The Fantasticks</td>\n",
       "      <td>0.0</td>\n",
       "      <td>5.500</td>\n",
       "      <td>22.0</td>\n",
       "      <td>NaN</td>\n",
       "    </tr>\n",
       "    <tr>\n",
       "      <th>2</th>\n",
       "      <td>tt0113092</td>\n",
       "      <td>0.0</td>\n",
       "      <td>NaN</td>\n",
       "      <td>NaN</td>\n",
       "      <td>0.0</td>\n",
       "      <td>[{'id': 878, 'name': 'Science Fiction'}]</td>\n",
       "      <td>NaN</td>\n",
       "      <td>110977.0</td>\n",
       "      <td>en</td>\n",
       "      <td>For the Cause</td>\n",
       "      <td>Earth is in a state of constant war and two co...</td>\n",
       "      <td>1.740</td>\n",
       "      <td>/h9bWO13nWRGZJo4XVPiElXyrRMU.jpg</td>\n",
       "      <td>[{'id': 7405, 'logo_path': '/rfnws0uY8rsNAsrLb...</td>\n",
       "      <td>[{'iso_3166_1': 'US', 'name': 'United States o...</td>\n",
       "      <td>2000-11-15</td>\n",
       "      <td>0.0</td>\n",
       "      <td>100.0</td>\n",
       "      <td>[{'english_name': 'English', 'iso_639_1': 'en'...</td>\n",
       "      <td>Released</td>\n",
       "      <td>The ultimate showdown on a forbidden planet.</td>\n",
       "      <td>For the Cause</td>\n",
       "      <td>0.0</td>\n",
       "      <td>5.450</td>\n",
       "      <td>10.0</td>\n",
       "      <td>NaN</td>\n",
       "    </tr>\n",
       "    <tr>\n",
       "      <th>3</th>\n",
       "      <td>tt0116391</td>\n",
       "      <td>0.0</td>\n",
       "      <td>NaN</td>\n",
       "      <td>NaN</td>\n",
       "      <td>0.0</td>\n",
       "      <td>[{'id': 18, 'name': 'Drama'}, {'id': 28, 'name...</td>\n",
       "      <td>NaN</td>\n",
       "      <td>442869.0</td>\n",
       "      <td>hi</td>\n",
       "      <td>Gang</td>\n",
       "      <td>After falling prey to underworld, four friends...</td>\n",
       "      <td>0.951</td>\n",
       "      <td>/yB5wRu4uyXXwZA3PEj8cITu0xt3.jpg</td>\n",
       "      <td>[]</td>\n",
       "      <td>[{'iso_3166_1': 'IN', 'name': 'India'}]</td>\n",
       "      <td>2000-04-14</td>\n",
       "      <td>0.0</td>\n",
       "      <td>152.0</td>\n",
       "      <td>[{'english_name': 'Hindi', 'iso_639_1': 'hi', ...</td>\n",
       "      <td>Released</td>\n",
       "      <td>NaN</td>\n",
       "      <td>Gang</td>\n",
       "      <td>0.0</td>\n",
       "      <td>4.000</td>\n",
       "      <td>1.0</td>\n",
       "      <td>NaN</td>\n",
       "    </tr>\n",
       "    <tr>\n",
       "      <th>4</th>\n",
       "      <td>tt0118694</td>\n",
       "      <td>0.0</td>\n",
       "      <td>/n4GJFGzsc7NinI1VeGDXIcQjtU2.jpg</td>\n",
       "      <td>NaN</td>\n",
       "      <td>150000.0</td>\n",
       "      <td>[{'id': 18, 'name': 'Drama'}, {'id': 10749, 'n...</td>\n",
       "      <td>NaN</td>\n",
       "      <td>843.0</td>\n",
       "      <td>cn</td>\n",
       "      <td>花樣年華</td>\n",
       "      <td>Two neighbors become intimate after discoverin...</td>\n",
       "      <td>19.202</td>\n",
       "      <td>/iYypPT4bhqXfq1b6EnmxvRt6b2Y.jpg</td>\n",
       "      <td>[{'id': 539, 'logo_path': '/iPLtePguIzOPNtAWfT...</td>\n",
       "      <td>[{'iso_3166_1': 'FR', 'name': 'France'}, {'iso...</td>\n",
       "      <td>2000-09-29</td>\n",
       "      <td>14204632.0</td>\n",
       "      <td>99.0</td>\n",
       "      <td>[{'english_name': 'Cantonese', 'iso_639_1': 'c...</td>\n",
       "      <td>Released</td>\n",
       "      <td>Feel the heat, keep the feeling burning, let t...</td>\n",
       "      <td>In the Mood for Love</td>\n",
       "      <td>0.0</td>\n",
       "      <td>8.100</td>\n",
       "      <td>2298.0</td>\n",
       "      <td>PG</td>\n",
       "    </tr>\n",
       "    <tr>\n",
       "      <th>5</th>\n",
       "      <td>tt0118852</td>\n",
       "      <td>0.0</td>\n",
       "      <td>/vceiGZ3uavAEHlTA7v0GjQsGVKe.jpg</td>\n",
       "      <td>NaN</td>\n",
       "      <td>0.0</td>\n",
       "      <td>[{'id': 18, 'name': 'Drama'}]</td>\n",
       "      <td>NaN</td>\n",
       "      <td>49511.0</td>\n",
       "      <td>en</td>\n",
       "      <td>Chinese Coffee</td>\n",
       "      <td>When Harry Levine, an aging, unsuccessful Gree...</td>\n",
       "      <td>4.912</td>\n",
       "      <td>/nZGWnSuf1FIuzyEuMRZHHZWViAp.jpg</td>\n",
       "      <td>[{'id': 67930, 'logo_path': None, 'name': 'Cha...</td>\n",
       "      <td>[{'iso_3166_1': 'US', 'name': 'United States o...</td>\n",
       "      <td>2000-09-02</td>\n",
       "      <td>0.0</td>\n",
       "      <td>99.0</td>\n",
       "      <td>[{'english_name': 'English', 'iso_639_1': 'en'...</td>\n",
       "      <td>Released</td>\n",
       "      <td>There's a fine line between friendship and bet...</td>\n",
       "      <td>Chinese Coffee</td>\n",
       "      <td>0.0</td>\n",
       "      <td>6.642</td>\n",
       "      <td>53.0</td>\n",
       "      <td>R</td>\n",
       "    </tr>\n",
       "  </tbody>\n",
       "</table>\n",
       "</div>"
      ],
      "text/plain": [
       "     imdb_id  adult                     backdrop_path belongs_to_collection  \\\n",
       "1  tt0113026    0.0  /vMFs7nw6P0bIV1jDsQpxAieAVnH.jpg                   NaN   \n",
       "2  tt0113092    0.0                               NaN                   NaN   \n",
       "3  tt0116391    0.0                               NaN                   NaN   \n",
       "4  tt0118694    0.0  /n4GJFGzsc7NinI1VeGDXIcQjtU2.jpg                   NaN   \n",
       "5  tt0118852    0.0  /vceiGZ3uavAEHlTA7v0GjQsGVKe.jpg                   NaN   \n",
       "\n",
       "       budget                                             genres homepage  \\\n",
       "1  10000000.0  [{'id': 35, 'name': 'Comedy'}, {'id': 10402, '...      NaN   \n",
       "2         0.0           [{'id': 878, 'name': 'Science Fiction'}]      NaN   \n",
       "3         0.0  [{'id': 18, 'name': 'Drama'}, {'id': 28, 'name...      NaN   \n",
       "4    150000.0  [{'id': 18, 'name': 'Drama'}, {'id': 10749, 'n...      NaN   \n",
       "5         0.0                      [{'id': 18, 'name': 'Drama'}]      NaN   \n",
       "\n",
       "         id original_language   original_title  \\\n",
       "1   62127.0                en  The Fantasticks   \n",
       "2  110977.0                en    For the Cause   \n",
       "3  442869.0                hi             Gang   \n",
       "4     843.0                cn             花樣年華   \n",
       "5   49511.0                en   Chinese Coffee   \n",
       "\n",
       "                                            overview  popularity  \\\n",
       "1  Two rural teens sing and dance their way throu...       1.611   \n",
       "2  Earth is in a state of constant war and two co...       1.740   \n",
       "3  After falling prey to underworld, four friends...       0.951   \n",
       "4  Two neighbors become intimate after discoverin...      19.202   \n",
       "5  When Harry Levine, an aging, unsuccessful Gree...       4.912   \n",
       "\n",
       "                        poster_path  \\\n",
       "1  /hfO64mXz3DgUxkBVU7no2UWRP7x.jpg   \n",
       "2  /h9bWO13nWRGZJo4XVPiElXyrRMU.jpg   \n",
       "3  /yB5wRu4uyXXwZA3PEj8cITu0xt3.jpg   \n",
       "4  /iYypPT4bhqXfq1b6EnmxvRt6b2Y.jpg   \n",
       "5  /nZGWnSuf1FIuzyEuMRZHHZWViAp.jpg   \n",
       "\n",
       "                                production_companies  \\\n",
       "1  [{'id': 51207, 'logo_path': None, 'name': 'Sul...   \n",
       "2  [{'id': 7405, 'logo_path': '/rfnws0uY8rsNAsrLb...   \n",
       "3                                                 []   \n",
       "4  [{'id': 539, 'logo_path': '/iPLtePguIzOPNtAWfT...   \n",
       "5  [{'id': 67930, 'logo_path': None, 'name': 'Cha...   \n",
       "\n",
       "                                production_countries release_date     revenue  \\\n",
       "1  [{'iso_3166_1': 'US', 'name': 'United States o...   2000-09-22         0.0   \n",
       "2  [{'iso_3166_1': 'US', 'name': 'United States o...   2000-11-15         0.0   \n",
       "3            [{'iso_3166_1': 'IN', 'name': 'India'}]   2000-04-14         0.0   \n",
       "4  [{'iso_3166_1': 'FR', 'name': 'France'}, {'iso...   2000-09-29  14204632.0   \n",
       "5  [{'iso_3166_1': 'US', 'name': 'United States o...   2000-09-02         0.0   \n",
       "\n",
       "   runtime                                   spoken_languages    status  \\\n",
       "1     86.0  [{'english_name': 'English', 'iso_639_1': 'en'...  Released   \n",
       "2    100.0  [{'english_name': 'English', 'iso_639_1': 'en'...  Released   \n",
       "3    152.0  [{'english_name': 'Hindi', 'iso_639_1': 'hi', ...  Released   \n",
       "4     99.0  [{'english_name': 'Cantonese', 'iso_639_1': 'c...  Released   \n",
       "5     99.0  [{'english_name': 'English', 'iso_639_1': 'en'...  Released   \n",
       "\n",
       "                                             tagline                 title  \\\n",
       "1      Try to remember the first time magic happened       The Fantasticks   \n",
       "2       The ultimate showdown on a forbidden planet.         For the Cause   \n",
       "3                                                NaN                  Gang   \n",
       "4  Feel the heat, keep the feeling burning, let t...  In the Mood for Love   \n",
       "5  There's a fine line between friendship and bet...        Chinese Coffee   \n",
       "\n",
       "   video  vote_average  vote_count certification  \n",
       "1    0.0         5.500        22.0           NaN  \n",
       "2    0.0         5.450        10.0           NaN  \n",
       "3    0.0         4.000         1.0           NaN  \n",
       "4    0.0         8.100      2298.0            PG  \n",
       "5    0.0         6.642        53.0             R  "
      ]
     },
     "execution_count": 5,
     "metadata": {},
     "output_type": "execute_result"
    }
   ],
   "source": [
    "#Remove zero id\n",
    "df = df.loc[df['imdb_id'] != '0']\n",
    "df.head()"
   ]
  },
  {
   "cell_type": "code",
   "execution_count": 6,
   "id": "30dae8e6",
   "metadata": {},
   "outputs": [
    {
     "data": {
      "text/html": [
       "<div>\n",
       "<style scoped>\n",
       "    .dataframe tbody tr th:only-of-type {\n",
       "        vertical-align: middle;\n",
       "    }\n",
       "\n",
       "    .dataframe tbody tr th {\n",
       "        vertical-align: top;\n",
       "    }\n",
       "\n",
       "    .dataframe thead th {\n",
       "        text-align: right;\n",
       "    }\n",
       "</style>\n",
       "<table border=\"1\" class=\"dataframe\">\n",
       "  <thead>\n",
       "    <tr style=\"text-align: right;\">\n",
       "      <th></th>\n",
       "      <th>imdb_id</th>\n",
       "      <th>adult</th>\n",
       "      <th>backdrop_path</th>\n",
       "      <th>belongs_to_collection</th>\n",
       "      <th>budget</th>\n",
       "      <th>genres</th>\n",
       "      <th>homepage</th>\n",
       "      <th>id</th>\n",
       "      <th>original_language</th>\n",
       "      <th>original_title</th>\n",
       "      <th>overview</th>\n",
       "      <th>popularity</th>\n",
       "      <th>poster_path</th>\n",
       "      <th>production_companies</th>\n",
       "      <th>production_countries</th>\n",
       "      <th>release_date</th>\n",
       "      <th>revenue</th>\n",
       "      <th>runtime</th>\n",
       "      <th>spoken_languages</th>\n",
       "      <th>status</th>\n",
       "      <th>tagline</th>\n",
       "      <th>title</th>\n",
       "      <th>video</th>\n",
       "      <th>vote_average</th>\n",
       "      <th>vote_count</th>\n",
       "      <th>certification</th>\n",
       "    </tr>\n",
       "  </thead>\n",
       "  <tbody>\n",
       "    <tr>\n",
       "      <th>0</th>\n",
       "      <td>tt0113026</td>\n",
       "      <td>0.0</td>\n",
       "      <td>/vMFs7nw6P0bIV1jDsQpxAieAVnH.jpg</td>\n",
       "      <td>NaN</td>\n",
       "      <td>10000000.0</td>\n",
       "      <td>[{'id': 35, 'name': 'Comedy'}, {'id': 10402, '...</td>\n",
       "      <td>NaN</td>\n",
       "      <td>62127.0</td>\n",
       "      <td>en</td>\n",
       "      <td>The Fantasticks</td>\n",
       "      <td>Two rural teens sing and dance their way throu...</td>\n",
       "      <td>1.611</td>\n",
       "      <td>/hfO64mXz3DgUxkBVU7no2UWRP7x.jpg</td>\n",
       "      <td>[{'id': 51207, 'logo_path': None, 'name': 'Sul...</td>\n",
       "      <td>[{'iso_3166_1': 'US', 'name': 'United States o...</td>\n",
       "      <td>2000-09-22</td>\n",
       "      <td>0.0</td>\n",
       "      <td>86.0</td>\n",
       "      <td>[{'english_name': 'English', 'iso_639_1': 'en'...</td>\n",
       "      <td>Released</td>\n",
       "      <td>Try to remember the first time magic happened</td>\n",
       "      <td>The Fantasticks</td>\n",
       "      <td>0.0</td>\n",
       "      <td>5.500</td>\n",
       "      <td>22.0</td>\n",
       "      <td>NaN</td>\n",
       "    </tr>\n",
       "    <tr>\n",
       "      <th>1</th>\n",
       "      <td>tt0113092</td>\n",
       "      <td>0.0</td>\n",
       "      <td>NaN</td>\n",
       "      <td>NaN</td>\n",
       "      <td>0.0</td>\n",
       "      <td>[{'id': 878, 'name': 'Science Fiction'}]</td>\n",
       "      <td>NaN</td>\n",
       "      <td>110977.0</td>\n",
       "      <td>en</td>\n",
       "      <td>For the Cause</td>\n",
       "      <td>Earth is in a state of constant war and two co...</td>\n",
       "      <td>1.740</td>\n",
       "      <td>/h9bWO13nWRGZJo4XVPiElXyrRMU.jpg</td>\n",
       "      <td>[{'id': 7405, 'logo_path': '/rfnws0uY8rsNAsrLb...</td>\n",
       "      <td>[{'iso_3166_1': 'US', 'name': 'United States o...</td>\n",
       "      <td>2000-11-15</td>\n",
       "      <td>0.0</td>\n",
       "      <td>100.0</td>\n",
       "      <td>[{'english_name': 'English', 'iso_639_1': 'en'...</td>\n",
       "      <td>Released</td>\n",
       "      <td>The ultimate showdown on a forbidden planet.</td>\n",
       "      <td>For the Cause</td>\n",
       "      <td>0.0</td>\n",
       "      <td>5.450</td>\n",
       "      <td>10.0</td>\n",
       "      <td>NaN</td>\n",
       "    </tr>\n",
       "    <tr>\n",
       "      <th>2</th>\n",
       "      <td>tt0116391</td>\n",
       "      <td>0.0</td>\n",
       "      <td>NaN</td>\n",
       "      <td>NaN</td>\n",
       "      <td>0.0</td>\n",
       "      <td>[{'id': 18, 'name': 'Drama'}, {'id': 28, 'name...</td>\n",
       "      <td>NaN</td>\n",
       "      <td>442869.0</td>\n",
       "      <td>hi</td>\n",
       "      <td>Gang</td>\n",
       "      <td>After falling prey to underworld, four friends...</td>\n",
       "      <td>0.951</td>\n",
       "      <td>/yB5wRu4uyXXwZA3PEj8cITu0xt3.jpg</td>\n",
       "      <td>[]</td>\n",
       "      <td>[{'iso_3166_1': 'IN', 'name': 'India'}]</td>\n",
       "      <td>2000-04-14</td>\n",
       "      <td>0.0</td>\n",
       "      <td>152.0</td>\n",
       "      <td>[{'english_name': 'Hindi', 'iso_639_1': 'hi', ...</td>\n",
       "      <td>Released</td>\n",
       "      <td>NaN</td>\n",
       "      <td>Gang</td>\n",
       "      <td>0.0</td>\n",
       "      <td>4.000</td>\n",
       "      <td>1.0</td>\n",
       "      <td>NaN</td>\n",
       "    </tr>\n",
       "    <tr>\n",
       "      <th>3</th>\n",
       "      <td>tt0118694</td>\n",
       "      <td>0.0</td>\n",
       "      <td>/n4GJFGzsc7NinI1VeGDXIcQjtU2.jpg</td>\n",
       "      <td>NaN</td>\n",
       "      <td>150000.0</td>\n",
       "      <td>[{'id': 18, 'name': 'Drama'}, {'id': 10749, 'n...</td>\n",
       "      <td>NaN</td>\n",
       "      <td>843.0</td>\n",
       "      <td>cn</td>\n",
       "      <td>花樣年華</td>\n",
       "      <td>Two neighbors become intimate after discoverin...</td>\n",
       "      <td>19.202</td>\n",
       "      <td>/iYypPT4bhqXfq1b6EnmxvRt6b2Y.jpg</td>\n",
       "      <td>[{'id': 539, 'logo_path': '/iPLtePguIzOPNtAWfT...</td>\n",
       "      <td>[{'iso_3166_1': 'FR', 'name': 'France'}, {'iso...</td>\n",
       "      <td>2000-09-29</td>\n",
       "      <td>14204632.0</td>\n",
       "      <td>99.0</td>\n",
       "      <td>[{'english_name': 'Cantonese', 'iso_639_1': 'c...</td>\n",
       "      <td>Released</td>\n",
       "      <td>Feel the heat, keep the feeling burning, let t...</td>\n",
       "      <td>In the Mood for Love</td>\n",
       "      <td>0.0</td>\n",
       "      <td>8.100</td>\n",
       "      <td>2298.0</td>\n",
       "      <td>PG</td>\n",
       "    </tr>\n",
       "    <tr>\n",
       "      <th>4</th>\n",
       "      <td>tt0118852</td>\n",
       "      <td>0.0</td>\n",
       "      <td>/vceiGZ3uavAEHlTA7v0GjQsGVKe.jpg</td>\n",
       "      <td>NaN</td>\n",
       "      <td>0.0</td>\n",
       "      <td>[{'id': 18, 'name': 'Drama'}]</td>\n",
       "      <td>NaN</td>\n",
       "      <td>49511.0</td>\n",
       "      <td>en</td>\n",
       "      <td>Chinese Coffee</td>\n",
       "      <td>When Harry Levine, an aging, unsuccessful Gree...</td>\n",
       "      <td>4.912</td>\n",
       "      <td>/nZGWnSuf1FIuzyEuMRZHHZWViAp.jpg</td>\n",
       "      <td>[{'id': 67930, 'logo_path': None, 'name': 'Cha...</td>\n",
       "      <td>[{'iso_3166_1': 'US', 'name': 'United States o...</td>\n",
       "      <td>2000-09-02</td>\n",
       "      <td>0.0</td>\n",
       "      <td>99.0</td>\n",
       "      <td>[{'english_name': 'English', 'iso_639_1': 'en'...</td>\n",
       "      <td>Released</td>\n",
       "      <td>There's a fine line between friendship and bet...</td>\n",
       "      <td>Chinese Coffee</td>\n",
       "      <td>0.0</td>\n",
       "      <td>6.642</td>\n",
       "      <td>53.0</td>\n",
       "      <td>R</td>\n",
       "    </tr>\n",
       "  </tbody>\n",
       "</table>\n",
       "</div>"
      ],
      "text/plain": [
       "     imdb_id  adult                     backdrop_path belongs_to_collection  \\\n",
       "0  tt0113026    0.0  /vMFs7nw6P0bIV1jDsQpxAieAVnH.jpg                   NaN   \n",
       "1  tt0113092    0.0                               NaN                   NaN   \n",
       "2  tt0116391    0.0                               NaN                   NaN   \n",
       "3  tt0118694    0.0  /n4GJFGzsc7NinI1VeGDXIcQjtU2.jpg                   NaN   \n",
       "4  tt0118852    0.0  /vceiGZ3uavAEHlTA7v0GjQsGVKe.jpg                   NaN   \n",
       "\n",
       "       budget                                             genres homepage  \\\n",
       "0  10000000.0  [{'id': 35, 'name': 'Comedy'}, {'id': 10402, '...      NaN   \n",
       "1         0.0           [{'id': 878, 'name': 'Science Fiction'}]      NaN   \n",
       "2         0.0  [{'id': 18, 'name': 'Drama'}, {'id': 28, 'name...      NaN   \n",
       "3    150000.0  [{'id': 18, 'name': 'Drama'}, {'id': 10749, 'n...      NaN   \n",
       "4         0.0                      [{'id': 18, 'name': 'Drama'}]      NaN   \n",
       "\n",
       "         id original_language   original_title  \\\n",
       "0   62127.0                en  The Fantasticks   \n",
       "1  110977.0                en    For the Cause   \n",
       "2  442869.0                hi             Gang   \n",
       "3     843.0                cn             花樣年華   \n",
       "4   49511.0                en   Chinese Coffee   \n",
       "\n",
       "                                            overview  popularity  \\\n",
       "0  Two rural teens sing and dance their way throu...       1.611   \n",
       "1  Earth is in a state of constant war and two co...       1.740   \n",
       "2  After falling prey to underworld, four friends...       0.951   \n",
       "3  Two neighbors become intimate after discoverin...      19.202   \n",
       "4  When Harry Levine, an aging, unsuccessful Gree...       4.912   \n",
       "\n",
       "                        poster_path  \\\n",
       "0  /hfO64mXz3DgUxkBVU7no2UWRP7x.jpg   \n",
       "1  /h9bWO13nWRGZJo4XVPiElXyrRMU.jpg   \n",
       "2  /yB5wRu4uyXXwZA3PEj8cITu0xt3.jpg   \n",
       "3  /iYypPT4bhqXfq1b6EnmxvRt6b2Y.jpg   \n",
       "4  /nZGWnSuf1FIuzyEuMRZHHZWViAp.jpg   \n",
       "\n",
       "                                production_companies  \\\n",
       "0  [{'id': 51207, 'logo_path': None, 'name': 'Sul...   \n",
       "1  [{'id': 7405, 'logo_path': '/rfnws0uY8rsNAsrLb...   \n",
       "2                                                 []   \n",
       "3  [{'id': 539, 'logo_path': '/iPLtePguIzOPNtAWfT...   \n",
       "4  [{'id': 67930, 'logo_path': None, 'name': 'Cha...   \n",
       "\n",
       "                                production_countries release_date     revenue  \\\n",
       "0  [{'iso_3166_1': 'US', 'name': 'United States o...   2000-09-22         0.0   \n",
       "1  [{'iso_3166_1': 'US', 'name': 'United States o...   2000-11-15         0.0   \n",
       "2            [{'iso_3166_1': 'IN', 'name': 'India'}]   2000-04-14         0.0   \n",
       "3  [{'iso_3166_1': 'FR', 'name': 'France'}, {'iso...   2000-09-29  14204632.0   \n",
       "4  [{'iso_3166_1': 'US', 'name': 'United States o...   2000-09-02         0.0   \n",
       "\n",
       "   runtime                                   spoken_languages    status  \\\n",
       "0     86.0  [{'english_name': 'English', 'iso_639_1': 'en'...  Released   \n",
       "1    100.0  [{'english_name': 'English', 'iso_639_1': 'en'...  Released   \n",
       "2    152.0  [{'english_name': 'Hindi', 'iso_639_1': 'hi', ...  Released   \n",
       "3     99.0  [{'english_name': 'Cantonese', 'iso_639_1': 'c...  Released   \n",
       "4     99.0  [{'english_name': 'English', 'iso_639_1': 'en'...  Released   \n",
       "\n",
       "                                             tagline                 title  \\\n",
       "0      Try to remember the first time magic happened       The Fantasticks   \n",
       "1       The ultimate showdown on a forbidden planet.         For the Cause   \n",
       "2                                                NaN                  Gang   \n",
       "3  Feel the heat, keep the feeling burning, let t...  In the Mood for Love   \n",
       "4  There's a fine line between friendship and bet...        Chinese Coffee   \n",
       "\n",
       "   video  vote_average  vote_count certification  \n",
       "0    0.0         5.500        22.0           NaN  \n",
       "1    0.0         5.450        10.0           NaN  \n",
       "2    0.0         4.000         1.0           NaN  \n",
       "3    0.0         8.100      2298.0            PG  \n",
       "4    0.0         6.642        53.0             R  "
      ]
     },
     "execution_count": 6,
     "metadata": {},
     "output_type": "execute_result"
    }
   ],
   "source": [
    "#Reset index\n",
    "df = df.reset_index(drop = True)\n",
    "df.head()"
   ]
  },
  {
   "cell_type": "code",
   "execution_count": 7,
   "id": "78f5215e",
   "metadata": {},
   "outputs": [],
   "source": [
    "#Save data to disk \n",
    "df.to_csv(FOLDER+'combined_tmdb_data.csv.gz', compression = 'gzip', index = False)"
   ]
  },
  {
   "cell_type": "markdown",
   "id": "08cd5352",
   "metadata": {},
   "source": [
    "## Load and Inspect Data"
   ]
  },
  {
   "cell_type": "code",
   "execution_count": 8,
   "id": "b2f67199",
   "metadata": {},
   "outputs": [
    {
     "data": {
      "text/html": [
       "<div>\n",
       "<style scoped>\n",
       "    .dataframe tbody tr th:only-of-type {\n",
       "        vertical-align: middle;\n",
       "    }\n",
       "\n",
       "    .dataframe tbody tr th {\n",
       "        vertical-align: top;\n",
       "    }\n",
       "\n",
       "    .dataframe thead th {\n",
       "        text-align: right;\n",
       "    }\n",
       "</style>\n",
       "<table border=\"1\" class=\"dataframe\">\n",
       "  <thead>\n",
       "    <tr style=\"text-align: right;\">\n",
       "      <th></th>\n",
       "      <th>imdb_id</th>\n",
       "      <th>adult</th>\n",
       "      <th>backdrop_path</th>\n",
       "      <th>belongs_to_collection</th>\n",
       "      <th>budget</th>\n",
       "      <th>genres</th>\n",
       "      <th>homepage</th>\n",
       "      <th>id</th>\n",
       "      <th>original_language</th>\n",
       "      <th>original_title</th>\n",
       "      <th>overview</th>\n",
       "      <th>popularity</th>\n",
       "      <th>poster_path</th>\n",
       "      <th>production_companies</th>\n",
       "      <th>production_countries</th>\n",
       "      <th>release_date</th>\n",
       "      <th>revenue</th>\n",
       "      <th>runtime</th>\n",
       "      <th>spoken_languages</th>\n",
       "      <th>status</th>\n",
       "      <th>tagline</th>\n",
       "      <th>title</th>\n",
       "      <th>video</th>\n",
       "      <th>vote_average</th>\n",
       "      <th>vote_count</th>\n",
       "      <th>certification</th>\n",
       "    </tr>\n",
       "  </thead>\n",
       "  <tbody>\n",
       "    <tr>\n",
       "      <th>0</th>\n",
       "      <td>tt0113026</td>\n",
       "      <td>0.0</td>\n",
       "      <td>/vMFs7nw6P0bIV1jDsQpxAieAVnH.jpg</td>\n",
       "      <td>NaN</td>\n",
       "      <td>10000000.0</td>\n",
       "      <td>[{'id': 35, 'name': 'Comedy'}, {'id': 10402, '...</td>\n",
       "      <td>NaN</td>\n",
       "      <td>62127.0</td>\n",
       "      <td>en</td>\n",
       "      <td>The Fantasticks</td>\n",
       "      <td>Two rural teens sing and dance their way throu...</td>\n",
       "      <td>1.611</td>\n",
       "      <td>/hfO64mXz3DgUxkBVU7no2UWRP7x.jpg</td>\n",
       "      <td>[{'id': 51207, 'logo_path': None, 'name': 'Sul...</td>\n",
       "      <td>[{'iso_3166_1': 'US', 'name': 'United States o...</td>\n",
       "      <td>2000-09-22</td>\n",
       "      <td>0.0</td>\n",
       "      <td>86.0</td>\n",
       "      <td>[{'english_name': 'English', 'iso_639_1': 'en'...</td>\n",
       "      <td>Released</td>\n",
       "      <td>Try to remember the first time magic happened</td>\n",
       "      <td>The Fantasticks</td>\n",
       "      <td>0.0</td>\n",
       "      <td>5.500</td>\n",
       "      <td>22.0</td>\n",
       "      <td>NaN</td>\n",
       "    </tr>\n",
       "    <tr>\n",
       "      <th>1</th>\n",
       "      <td>tt0113092</td>\n",
       "      <td>0.0</td>\n",
       "      <td>NaN</td>\n",
       "      <td>NaN</td>\n",
       "      <td>0.0</td>\n",
       "      <td>[{'id': 878, 'name': 'Science Fiction'}]</td>\n",
       "      <td>NaN</td>\n",
       "      <td>110977.0</td>\n",
       "      <td>en</td>\n",
       "      <td>For the Cause</td>\n",
       "      <td>Earth is in a state of constant war and two co...</td>\n",
       "      <td>1.740</td>\n",
       "      <td>/h9bWO13nWRGZJo4XVPiElXyrRMU.jpg</td>\n",
       "      <td>[{'id': 7405, 'logo_path': '/rfnws0uY8rsNAsrLb...</td>\n",
       "      <td>[{'iso_3166_1': 'US', 'name': 'United States o...</td>\n",
       "      <td>2000-11-15</td>\n",
       "      <td>0.0</td>\n",
       "      <td>100.0</td>\n",
       "      <td>[{'english_name': 'English', 'iso_639_1': 'en'...</td>\n",
       "      <td>Released</td>\n",
       "      <td>The ultimate showdown on a forbidden planet.</td>\n",
       "      <td>For the Cause</td>\n",
       "      <td>0.0</td>\n",
       "      <td>5.450</td>\n",
       "      <td>10.0</td>\n",
       "      <td>NaN</td>\n",
       "    </tr>\n",
       "    <tr>\n",
       "      <th>2</th>\n",
       "      <td>tt0116391</td>\n",
       "      <td>0.0</td>\n",
       "      <td>NaN</td>\n",
       "      <td>NaN</td>\n",
       "      <td>0.0</td>\n",
       "      <td>[{'id': 18, 'name': 'Drama'}, {'id': 28, 'name...</td>\n",
       "      <td>NaN</td>\n",
       "      <td>442869.0</td>\n",
       "      <td>hi</td>\n",
       "      <td>Gang</td>\n",
       "      <td>After falling prey to underworld, four friends...</td>\n",
       "      <td>0.951</td>\n",
       "      <td>/yB5wRu4uyXXwZA3PEj8cITu0xt3.jpg</td>\n",
       "      <td>[]</td>\n",
       "      <td>[{'iso_3166_1': 'IN', 'name': 'India'}]</td>\n",
       "      <td>2000-04-14</td>\n",
       "      <td>0.0</td>\n",
       "      <td>152.0</td>\n",
       "      <td>[{'english_name': 'Hindi', 'iso_639_1': 'hi', ...</td>\n",
       "      <td>Released</td>\n",
       "      <td>NaN</td>\n",
       "      <td>Gang</td>\n",
       "      <td>0.0</td>\n",
       "      <td>4.000</td>\n",
       "      <td>1.0</td>\n",
       "      <td>NaN</td>\n",
       "    </tr>\n",
       "    <tr>\n",
       "      <th>3</th>\n",
       "      <td>tt0118694</td>\n",
       "      <td>0.0</td>\n",
       "      <td>/n4GJFGzsc7NinI1VeGDXIcQjtU2.jpg</td>\n",
       "      <td>NaN</td>\n",
       "      <td>150000.0</td>\n",
       "      <td>[{'id': 18, 'name': 'Drama'}, {'id': 10749, 'n...</td>\n",
       "      <td>NaN</td>\n",
       "      <td>843.0</td>\n",
       "      <td>cn</td>\n",
       "      <td>花樣年華</td>\n",
       "      <td>Two neighbors become intimate after discoverin...</td>\n",
       "      <td>19.202</td>\n",
       "      <td>/iYypPT4bhqXfq1b6EnmxvRt6b2Y.jpg</td>\n",
       "      <td>[{'id': 539, 'logo_path': '/iPLtePguIzOPNtAWfT...</td>\n",
       "      <td>[{'iso_3166_1': 'FR', 'name': 'France'}, {'iso...</td>\n",
       "      <td>2000-09-29</td>\n",
       "      <td>14204632.0</td>\n",
       "      <td>99.0</td>\n",
       "      <td>[{'english_name': 'Cantonese', 'iso_639_1': 'c...</td>\n",
       "      <td>Released</td>\n",
       "      <td>Feel the heat, keep the feeling burning, let t...</td>\n",
       "      <td>In the Mood for Love</td>\n",
       "      <td>0.0</td>\n",
       "      <td>8.100</td>\n",
       "      <td>2298.0</td>\n",
       "      <td>PG</td>\n",
       "    </tr>\n",
       "    <tr>\n",
       "      <th>4</th>\n",
       "      <td>tt0118852</td>\n",
       "      <td>0.0</td>\n",
       "      <td>/vceiGZ3uavAEHlTA7v0GjQsGVKe.jpg</td>\n",
       "      <td>NaN</td>\n",
       "      <td>0.0</td>\n",
       "      <td>[{'id': 18, 'name': 'Drama'}]</td>\n",
       "      <td>NaN</td>\n",
       "      <td>49511.0</td>\n",
       "      <td>en</td>\n",
       "      <td>Chinese Coffee</td>\n",
       "      <td>When Harry Levine, an aging, unsuccessful Gree...</td>\n",
       "      <td>4.912</td>\n",
       "      <td>/nZGWnSuf1FIuzyEuMRZHHZWViAp.jpg</td>\n",
       "      <td>[{'id': 67930, 'logo_path': None, 'name': 'Cha...</td>\n",
       "      <td>[{'iso_3166_1': 'US', 'name': 'United States o...</td>\n",
       "      <td>2000-09-02</td>\n",
       "      <td>0.0</td>\n",
       "      <td>99.0</td>\n",
       "      <td>[{'english_name': 'English', 'iso_639_1': 'en'...</td>\n",
       "      <td>Released</td>\n",
       "      <td>There's a fine line between friendship and bet...</td>\n",
       "      <td>Chinese Coffee</td>\n",
       "      <td>0.0</td>\n",
       "      <td>6.642</td>\n",
       "      <td>53.0</td>\n",
       "      <td>R</td>\n",
       "    </tr>\n",
       "  </tbody>\n",
       "</table>\n",
       "</div>"
      ],
      "text/plain": [
       "     imdb_id  adult                     backdrop_path belongs_to_collection  \\\n",
       "0  tt0113026    0.0  /vMFs7nw6P0bIV1jDsQpxAieAVnH.jpg                   NaN   \n",
       "1  tt0113092    0.0                               NaN                   NaN   \n",
       "2  tt0116391    0.0                               NaN                   NaN   \n",
       "3  tt0118694    0.0  /n4GJFGzsc7NinI1VeGDXIcQjtU2.jpg                   NaN   \n",
       "4  tt0118852    0.0  /vceiGZ3uavAEHlTA7v0GjQsGVKe.jpg                   NaN   \n",
       "\n",
       "       budget                                             genres homepage  \\\n",
       "0  10000000.0  [{'id': 35, 'name': 'Comedy'}, {'id': 10402, '...      NaN   \n",
       "1         0.0           [{'id': 878, 'name': 'Science Fiction'}]      NaN   \n",
       "2         0.0  [{'id': 18, 'name': 'Drama'}, {'id': 28, 'name...      NaN   \n",
       "3    150000.0  [{'id': 18, 'name': 'Drama'}, {'id': 10749, 'n...      NaN   \n",
       "4         0.0                      [{'id': 18, 'name': 'Drama'}]      NaN   \n",
       "\n",
       "         id original_language   original_title  \\\n",
       "0   62127.0                en  The Fantasticks   \n",
       "1  110977.0                en    For the Cause   \n",
       "2  442869.0                hi             Gang   \n",
       "3     843.0                cn             花樣年華   \n",
       "4   49511.0                en   Chinese Coffee   \n",
       "\n",
       "                                            overview  popularity  \\\n",
       "0  Two rural teens sing and dance their way throu...       1.611   \n",
       "1  Earth is in a state of constant war and two co...       1.740   \n",
       "2  After falling prey to underworld, four friends...       0.951   \n",
       "3  Two neighbors become intimate after discoverin...      19.202   \n",
       "4  When Harry Levine, an aging, unsuccessful Gree...       4.912   \n",
       "\n",
       "                        poster_path  \\\n",
       "0  /hfO64mXz3DgUxkBVU7no2UWRP7x.jpg   \n",
       "1  /h9bWO13nWRGZJo4XVPiElXyrRMU.jpg   \n",
       "2  /yB5wRu4uyXXwZA3PEj8cITu0xt3.jpg   \n",
       "3  /iYypPT4bhqXfq1b6EnmxvRt6b2Y.jpg   \n",
       "4  /nZGWnSuf1FIuzyEuMRZHHZWViAp.jpg   \n",
       "\n",
       "                                production_companies  \\\n",
       "0  [{'id': 51207, 'logo_path': None, 'name': 'Sul...   \n",
       "1  [{'id': 7405, 'logo_path': '/rfnws0uY8rsNAsrLb...   \n",
       "2                                                 []   \n",
       "3  [{'id': 539, 'logo_path': '/iPLtePguIzOPNtAWfT...   \n",
       "4  [{'id': 67930, 'logo_path': None, 'name': 'Cha...   \n",
       "\n",
       "                                production_countries release_date     revenue  \\\n",
       "0  [{'iso_3166_1': 'US', 'name': 'United States o...   2000-09-22         0.0   \n",
       "1  [{'iso_3166_1': 'US', 'name': 'United States o...   2000-11-15         0.0   \n",
       "2            [{'iso_3166_1': 'IN', 'name': 'India'}]   2000-04-14         0.0   \n",
       "3  [{'iso_3166_1': 'FR', 'name': 'France'}, {'iso...   2000-09-29  14204632.0   \n",
       "4  [{'iso_3166_1': 'US', 'name': 'United States o...   2000-09-02         0.0   \n",
       "\n",
       "   runtime                                   spoken_languages    status  \\\n",
       "0     86.0  [{'english_name': 'English', 'iso_639_1': 'en'...  Released   \n",
       "1    100.0  [{'english_name': 'English', 'iso_639_1': 'en'...  Released   \n",
       "2    152.0  [{'english_name': 'Hindi', 'iso_639_1': 'hi', ...  Released   \n",
       "3     99.0  [{'english_name': 'Cantonese', 'iso_639_1': 'c...  Released   \n",
       "4     99.0  [{'english_name': 'English', 'iso_639_1': 'en'...  Released   \n",
       "\n",
       "                                             tagline                 title  \\\n",
       "0      Try to remember the first time magic happened       The Fantasticks   \n",
       "1       The ultimate showdown on a forbidden planet.         For the Cause   \n",
       "2                                                NaN                  Gang   \n",
       "3  Feel the heat, keep the feeling burning, let t...  In the Mood for Love   \n",
       "4  There's a fine line between friendship and bet...        Chinese Coffee   \n",
       "\n",
       "   video  vote_average  vote_count certification  \n",
       "0    0.0         5.500        22.0           NaN  \n",
       "1    0.0         5.450        10.0           NaN  \n",
       "2    0.0         4.000         1.0           NaN  \n",
       "3    0.0         8.100      2298.0            PG  \n",
       "4    0.0         6.642        53.0             R  "
      ]
     },
     "execution_count": 8,
     "metadata": {},
     "output_type": "execute_result"
    }
   ],
   "source": [
    "#Read in dataframe again to make sure it worked\n",
    "df = pd.read_csv(FOLDER+'combined_tmdb_data.csv.gz',lineterminator='\\n')\n",
    "df.head()"
   ]
  },
  {
   "cell_type": "code",
   "execution_count": 9,
   "id": "34ec59d9",
   "metadata": {},
   "outputs": [
    {
     "name": "stdout",
     "output_type": "stream",
     "text": [
      "<class 'pandas.core.frame.DataFrame'>\n",
      "RangeIndex: 16898 entries, 0 to 16897\n",
      "Data columns (total 26 columns):\n",
      " #   Column                 Non-Null Count  Dtype  \n",
      "---  ------                 --------------  -----  \n",
      " 0   imdb_id                16898 non-null  object \n",
      " 1   adult                  16898 non-null  float64\n",
      " 2   backdrop_path          9424 non-null   object \n",
      " 3   belongs_to_collection  1297 non-null   object \n",
      " 4   budget                 16898 non-null  float64\n",
      " 5   genres                 16898 non-null  object \n",
      " 6   homepage               2763 non-null   object \n",
      " 7   id                     16898 non-null  float64\n",
      " 8   original_language      16898 non-null  object \n",
      " 9   original_title         16898 non-null  object \n",
      " 10  overview               16513 non-null  object \n",
      " 11  popularity             16898 non-null  float64\n",
      " 12  poster_path            14960 non-null  object \n",
      " 13  production_companies   16898 non-null  object \n",
      " 14  production_countries   16898 non-null  object \n",
      " 15  release_date           16611 non-null  object \n",
      " 16  revenue                16898 non-null  float64\n",
      " 17  runtime                16898 non-null  float64\n",
      " 18  spoken_languages       16898 non-null  object \n",
      " 19  status                 16898 non-null  object \n",
      " 20  tagline                7212 non-null   object \n",
      " 21  title                  16898 non-null  object \n",
      " 22  video                  16898 non-null  float64\n",
      " 23  vote_average           16898 non-null  float64\n",
      " 24  vote_count             16898 non-null  float64\n",
      " 25  certification          5323 non-null   object \n",
      "dtypes: float64(9), object(17)\n",
      "memory usage: 3.4+ MB\n"
     ]
    }
   ],
   "source": [
    "#Preview info\n",
    "df.info()"
   ]
  },
  {
   "cell_type": "code",
   "execution_count": 10,
   "id": "dc241986",
   "metadata": {},
   "outputs": [
    {
     "name": "stdout",
     "output_type": "stream",
     "text": [
      "<class 'pandas.core.frame.DataFrame'>\n",
      "RangeIndex: 16898 entries, 0 to 16897\n",
      "Data columns (total 7 columns):\n",
      " #   Column         Non-Null Count  Dtype  \n",
      "---  ------         --------------  -----  \n",
      " 0   imdb_id        16898 non-null  object \n",
      " 1   release_date   16611 non-null  object \n",
      " 2   revenue        16898 non-null  float64\n",
      " 3   runtime        16898 non-null  float64\n",
      " 4   vote_average   16898 non-null  float64\n",
      " 5   vote_count     16898 non-null  float64\n",
      " 6   certification  5323 non-null   object \n",
      "dtypes: float64(4), object(3)\n",
      "memory usage: 924.2+ KB\n"
     ]
    }
   ],
   "source": [
    "#Drop unnecessary columns for hypothesis tests\n",
    "drop_cols = ['adult', 'backdrop_path', 'belongs_to_collection', 'homepage', \n",
    "             'original_title', 'overview', 'poster_path', 'status', 'tagline', \n",
    "             'video', 'budget', 'genres', 'id', 'original_language', \n",
    "             'popularity', 'production_companies', 'production_countries', \n",
    "             'spoken_languages', 'title',]\n",
    "df = df.drop(columns = drop_cols)\n",
    "df.info()"
   ]
  },
  {
   "cell_type": "code",
   "execution_count": 11,
   "id": "d0076339",
   "metadata": {},
   "outputs": [
    {
     "data": {
      "text/plain": [
       "NaN                                11575\n",
       "R                                   2585\n",
       "PG-13                               1260\n",
       "NR                                   768\n",
       "PG                                   524\n",
       "G                                    135\n",
       "NC-17                                 47\n",
       "Unrated                                1\n",
       "UR                                     1\n",
       "Not Rated                              1\n",
       "ScreamFest Horror Film Festival        1\n",
       "Name: certification, dtype: int64"
      ]
     },
     "execution_count": 11,
     "metadata": {},
     "output_type": "execute_result"
    }
   ],
   "source": [
    "#Preview certification column values\n",
    "df['certification'].value_counts(dropna = False)"
   ]
  },
  {
   "cell_type": "code",
   "execution_count": 12,
   "id": "05e4f571",
   "metadata": {},
   "outputs": [],
   "source": [
    "#Remove extra space\n",
    "df['certification'] = df['certification'].str.strip()"
   ]
  },
  {
   "cell_type": "code",
   "execution_count": 13,
   "id": "0dead4f1",
   "metadata": {},
   "outputs": [
    {
     "data": {
      "text/plain": [
       "NaN      11575\n",
       "R         2585\n",
       "PG-13     1260\n",
       "NR         772\n",
       "PG         524\n",
       "G          135\n",
       "NC-17       47\n",
       "Name: certification, dtype: int64"
      ]
     },
     "execution_count": 13,
     "metadata": {},
     "output_type": "execute_result"
    }
   ],
   "source": [
    "#Clean up extra ratings\n",
    "cert_dict = {'Unrated': 'NR',\n",
    "            'UR': 'NR',\n",
    "            'Not Rated': 'NR',\n",
    "            'ScreamFest Horror Film Festival': 'NR'}\n",
    "\n",
    "#Replace values\n",
    "df['certification'] = df['certification'].replace(cert_dict)\n",
    "df['certification'].value_counts(dropna = False)"
   ]
  },
  {
   "cell_type": "code",
   "execution_count": 14,
   "id": "9afb170e",
   "metadata": {},
   "outputs": [
    {
     "data": {
      "text/plain": [
       "R        2585\n",
       "PG-13    1260\n",
       "NR        772\n",
       "PG        524\n",
       "G         135\n",
       "NC-17      47\n",
       "Name: certification, dtype: int64"
      ]
     },
     "execution_count": 14,
     "metadata": {},
     "output_type": "execute_result"
    }
   ],
   "source": [
    "#Drop nan values\n",
    "df = df.dropna(subset = 'certification')\n",
    "df['certification'].value_counts()"
   ]
  },
  {
   "cell_type": "markdown",
   "id": "ec4c3e20",
   "metadata": {},
   "source": [
    "## Hypothesis Test 1:\n",
    "\n",
    "- Does the MPAA rating of a movie (G/PG/PG-13/R) affect how much revenue the movie generates?"
   ]
  },
  {
   "cell_type": "markdown",
   "id": "764c3551",
   "metadata": {},
   "source": [
    "### State the Hypotheses:\n",
    "\n",
    "- Null: There is no difference between revenue generated for different ratings.\n",
    "- Alternative: There is a significant difference between revenue generated for different ratings.\n",
    "- Alpha = 0.05"
   ]
  },
  {
   "cell_type": "markdown",
   "id": "02e61678",
   "metadata": {},
   "source": [
    "### Select Test:\n",
    "\n",
    "- Because we are comparing a numeric value (revenue) across multiple groups (ratings), I will use an ANOVA test."
   ]
  },
  {
   "cell_type": "markdown",
   "id": "db064b6b",
   "metadata": {},
   "source": [
    "### Test Assumptions:\n",
    "\n",
    "- Assumptions of one-way ANOVA test:\n",
    "    - No significant outliers.\n",
    "    - Normality.\n",
    "    - Equal Variance."
   ]
  },
  {
   "cell_type": "code",
   "execution_count": 15,
   "id": "82cfae09",
   "metadata": {},
   "outputs": [
    {
     "data": {
      "text/plain": [
       "dict_keys(['PG', 'R', 'G', 'NR', 'PG-13', 'NC-17'])"
      ]
     },
     "execution_count": 15,
     "metadata": {},
     "output_type": "execute_result"
    }
   ],
   "source": [
    "##Create groups dictionary\n",
    "groups = {}\n",
    "#Loop through all unique categories\n",
    "for i in df['certification'].unique():\n",
    "    ## Get series for group and rename\n",
    "    data = df.loc[df['certification']==i,'revenue'].copy()\n",
    "    \n",
    "    # save into the dictionary\n",
    "    groups[i] = data\n",
    "groups.keys()"
   ]
  },
  {
   "cell_type": "code",
   "execution_count": 16,
   "id": "065e1fb2",
   "metadata": {},
   "outputs": [
    {
     "data": {
      "text/html": [
       "<div>\n",
       "<style scoped>\n",
       "    .dataframe tbody tr th:only-of-type {\n",
       "        vertical-align: middle;\n",
       "    }\n",
       "\n",
       "    .dataframe tbody tr th {\n",
       "        vertical-align: top;\n",
       "    }\n",
       "\n",
       "    .dataframe thead th {\n",
       "        text-align: right;\n",
       "    }\n",
       "</style>\n",
       "<table border=\"1\" class=\"dataframe\">\n",
       "  <thead>\n",
       "    <tr style=\"text-align: right;\">\n",
       "      <th></th>\n",
       "      <th>n</th>\n",
       "      <th>p</th>\n",
       "      <th>test stat</th>\n",
       "      <th>sig</th>\n",
       "    </tr>\n",
       "  </thead>\n",
       "  <tbody>\n",
       "    <tr>\n",
       "      <th>PG</th>\n",
       "      <td>524.0</td>\n",
       "      <td>8.451953e-89</td>\n",
       "      <td>405.591351</td>\n",
       "      <td>True</td>\n",
       "    </tr>\n",
       "    <tr>\n",
       "      <th>R</th>\n",
       "      <td>2585.0</td>\n",
       "      <td>0.000000e+00</td>\n",
       "      <td>3046.168862</td>\n",
       "      <td>True</td>\n",
       "    </tr>\n",
       "    <tr>\n",
       "      <th>G</th>\n",
       "      <td>135.0</td>\n",
       "      <td>2.937061e-21</td>\n",
       "      <td>94.553755</td>\n",
       "      <td>True</td>\n",
       "    </tr>\n",
       "    <tr>\n",
       "      <th>NR</th>\n",
       "      <td>772.0</td>\n",
       "      <td>0.000000e+00</td>\n",
       "      <td>1506.620668</td>\n",
       "      <td>True</td>\n",
       "    </tr>\n",
       "    <tr>\n",
       "      <th>PG-13</th>\n",
       "      <td>1260.0</td>\n",
       "      <td>0.000000e+00</td>\n",
       "      <td>1655.945937</td>\n",
       "      <td>True</td>\n",
       "    </tr>\n",
       "    <tr>\n",
       "      <th>NC-17</th>\n",
       "      <td>47.0</td>\n",
       "      <td>2.921565e-15</td>\n",
       "      <td>66.933314</td>\n",
       "      <td>True</td>\n",
       "    </tr>\n",
       "  </tbody>\n",
       "</table>\n",
       "</div>"
      ],
      "text/plain": [
       "            n             p    test stat   sig\n",
       "PG      524.0  8.451953e-89   405.591351  True\n",
       "R      2585.0  0.000000e+00  3046.168862  True\n",
       "G       135.0  2.937061e-21    94.553755  True\n",
       "NR      772.0  0.000000e+00  1506.620668  True\n",
       "PG-13  1260.0  0.000000e+00  1655.945937  True\n",
       "NC-17    47.0  2.921565e-15    66.933314  True"
      ]
     },
     "execution_count": 16,
     "metadata": {},
     "output_type": "execute_result"
    }
   ],
   "source": [
    "#Running normal test on each group and confirming there are >20 in each group\n",
    "norm_results = {}\n",
    "for i, data in groups.items():\n",
    "    stat, p = stats.normaltest(data)\n",
    "    ## save the p val, test statistic, and the size of the group\n",
    "    norm_results[i] = {'n': len(data),\n",
    "                             'p':p,\n",
    "                             'test stat':stat,}\n",
    "## convert to a dataframe\n",
    "norm_results_df = pd.DataFrame(norm_results).T\n",
    "\n",
    "#Checking sig with pandas \n",
    "norm_results_df['sig'] = norm_results_df['p'] < .05 \n",
    "norm_results_df"
   ]
  },
  {
   "cell_type": "markdown",
   "id": "13117c86",
   "metadata": {},
   "source": [
    "- Our data is not normally distributed, however, because there are more than 15 samples in each group, we can continue."
   ]
  },
  {
   "cell_type": "code",
   "execution_count": 17,
   "id": "f6bb6121",
   "metadata": {},
   "outputs": [
    {
     "data": {
      "text/plain": [
       "LeveneResult(statistic=78.08838743712192, pvalue=2.84912924585618e-79)"
      ]
     },
     "execution_count": 17,
     "metadata": {},
     "output_type": "execute_result"
    }
   ],
   "source": [
    "#Test for equal variance\n",
    "stats.levene(*groups.values())"
   ]
  },
  {
   "cell_type": "markdown",
   "id": "125b82a5",
   "metadata": {},
   "source": [
    "- We have failed the equal variance test, which means we must use a non-parametric test instead of ANOVA. The alternate test will be a Kruskal-Wallis test."
   ]
  },
  {
   "cell_type": "markdown",
   "id": "3f834823",
   "metadata": {},
   "source": [
    "### Execute Test:\n",
    "\n",
    "- Kruskal-Wallis test"
   ]
  },
  {
   "cell_type": "code",
   "execution_count": 18,
   "id": "02eb9744",
   "metadata": {},
   "outputs": [
    {
     "name": "stdout",
     "output_type": "stream",
     "text": [
      "KruskalResult(statistic=5.0, pvalue=0.4158801869955079)\n",
      "False\n"
     ]
    },
    {
     "name": "stderr",
     "output_type": "stream",
     "text": [
      "/Users/krisbarber/anaconda3/envs/dojo-env/lib/python3.9/site-packages/scipy/stats/_stats_py.py:112: RuntimeWarning: The input array could not be properly checked for nan values. nan values will be ignored.\n",
      "  warnings.warn(\"The input array could not be properly \"\n"
     ]
    }
   ],
   "source": [
    "#Execute test\n",
    "result = stats.kruskal(*groups)\n",
    "print(result)\n",
    "print(result.pvalue < .05)"
   ]
  },
  {
   "cell_type": "markdown",
   "id": "55af382e",
   "metadata": {},
   "source": [
    "### Interpretation:\n",
    "\n",
    "- Our p-value is greater than our alpha of 0.05, therefore we fail to reject the null hypothesis. In our data, there is not a significant difference in average revenue generated per rating category."
   ]
  },
  {
   "cell_type": "markdown",
   "id": "4c0fd9da",
   "metadata": {},
   "source": [
    "### Supporting Visual"
   ]
  },
  {
   "cell_type": "code",
   "execution_count": 19,
   "id": "13e44819",
   "metadata": {},
   "outputs": [
    {
     "data": {
      "image/png": "[encoded data removed]",
      "text/plain": [
       "<Figure size 640x480 with 1 Axes>"
      ]
     },
     "metadata": {},
     "output_type": "display_data"
    }
   ],
   "source": [
    "#Create barplot of revenue vs. rating\n",
    "ax = sns.barplot(data = df, x= 'certification', y= 'revenue')\n",
    "ax.set_title('Average Revenue per Rating');"
   ]
  },
  {
   "cell_type": "markdown",
   "id": "f80c5943",
   "metadata": {},
   "source": [
    "## Hypothesis Test 2:\n",
    "\n",
    "- Do movies that are over 2.5 hours long earn more revenue than movies that are 1.5 hours long (or less)?"
   ]
  },
  {
   "cell_type": "markdown",
   "id": "175a7af0",
   "metadata": {},
   "source": [
    "### State Hypotheses:\n",
    "\n",
    "- Null: There is no difference between groups of movies.\n",
    "- Alternative: There is a significant difference between groups of movies.\n",
    "- Alpha = 0.05"
   ]
  },
  {
   "cell_type": "markdown",
   "id": "21f0bc06",
   "metadata": {},
   "source": [
    "### Select Test:\n",
    "\n",
    "- Because we are comparing a numeric outcome (revenue) to another numeric variable (runtime), I will use a 2-sample t-test."
   ]
  },
  {
   "cell_type": "markdown",
   "id": "954fb881",
   "metadata": {},
   "source": [
    "### Select Groups:\n",
    "\n",
    "- I will split the data into two groups: movies with a runtime over 2.5 hours (> 150), and movies with a runtime of 1.5 hours or less (<= 90)."
   ]
  },
  {
   "cell_type": "code",
   "execution_count": 20,
   "id": "5298639b",
   "metadata": {},
   "outputs": [
    {
     "data": {
      "text/html": [
       "<div>\n",
       "<style scoped>\n",
       "    .dataframe tbody tr th:only-of-type {\n",
       "        vertical-align: middle;\n",
       "    }\n",
       "\n",
       "    .dataframe tbody tr th {\n",
       "        vertical-align: top;\n",
       "    }\n",
       "\n",
       "    .dataframe thead th {\n",
       "        text-align: right;\n",
       "    }\n",
       "</style>\n",
       "<table border=\"1\" class=\"dataframe\">\n",
       "  <thead>\n",
       "    <tr style=\"text-align: right;\">\n",
       "      <th></th>\n",
       "      <th>imdb_id</th>\n",
       "      <th>release_date</th>\n",
       "      <th>revenue</th>\n",
       "      <th>runtime</th>\n",
       "      <th>vote_average</th>\n",
       "      <th>vote_count</th>\n",
       "      <th>certification</th>\n",
       "      <th>is_long</th>\n",
       "      <th>is_short</th>\n",
       "    </tr>\n",
       "  </thead>\n",
       "  <tbody>\n",
       "    <tr>\n",
       "      <th>3</th>\n",
       "      <td>tt0118694</td>\n",
       "      <td>2000-09-29</td>\n",
       "      <td>14204632.0</td>\n",
       "      <td>99.0</td>\n",
       "      <td>8.100</td>\n",
       "      <td>2298.0</td>\n",
       "      <td>PG</td>\n",
       "      <td>False</td>\n",
       "      <td>False</td>\n",
       "    </tr>\n",
       "    <tr>\n",
       "      <th>4</th>\n",
       "      <td>tt0118852</td>\n",
       "      <td>2000-09-02</td>\n",
       "      <td>0.0</td>\n",
       "      <td>99.0</td>\n",
       "      <td>6.642</td>\n",
       "      <td>53.0</td>\n",
       "      <td>R</td>\n",
       "      <td>False</td>\n",
       "      <td>False</td>\n",
       "    </tr>\n",
       "    <tr>\n",
       "      <th>5</th>\n",
       "      <td>tt0119273</td>\n",
       "      <td>2000-04-19</td>\n",
       "      <td>0.0</td>\n",
       "      <td>88.0</td>\n",
       "      <td>6.072</td>\n",
       "      <td>188.0</td>\n",
       "      <td>R</td>\n",
       "      <td>False</td>\n",
       "      <td>True</td>\n",
       "    </tr>\n",
       "    <tr>\n",
       "      <th>6</th>\n",
       "      <td>tt0119495</td>\n",
       "      <td>2000-08-24</td>\n",
       "      <td>0.0</td>\n",
       "      <td>86.0</td>\n",
       "      <td>0.000</td>\n",
       "      <td>0.0</td>\n",
       "      <td>R</td>\n",
       "      <td>False</td>\n",
       "      <td>True</td>\n",
       "    </tr>\n",
       "    <tr>\n",
       "      <th>10</th>\n",
       "      <td>tt0120467</td>\n",
       "      <td>2002-04-26</td>\n",
       "      <td>14904.0</td>\n",
       "      <td>87.0</td>\n",
       "      <td>5.500</td>\n",
       "      <td>44.0</td>\n",
       "      <td>R</td>\n",
       "      <td>False</td>\n",
       "      <td>True</td>\n",
       "    </tr>\n",
       "  </tbody>\n",
       "</table>\n",
       "</div>"
      ],
      "text/plain": [
       "      imdb_id release_date     revenue  runtime  vote_average  vote_count  \\\n",
       "3   tt0118694   2000-09-29  14204632.0     99.0         8.100      2298.0   \n",
       "4   tt0118852   2000-09-02         0.0     99.0         6.642        53.0   \n",
       "5   tt0119273   2000-04-19         0.0     88.0         6.072       188.0   \n",
       "6   tt0119495   2000-08-24         0.0     86.0         0.000         0.0   \n",
       "10  tt0120467   2002-04-26     14904.0     87.0         5.500        44.0   \n",
       "\n",
       "   certification  is_long  is_short  \n",
       "3             PG    False     False  \n",
       "4              R    False     False  \n",
       "5              R    False      True  \n",
       "6              R    False      True  \n",
       "10             R    False      True  "
      ]
     },
     "execution_count": 20,
     "metadata": {},
     "output_type": "execute_result"
    }
   ],
   "source": [
    "#Add columns for long and short movies\n",
    "df['is_long'] = df['runtime'] > 150\n",
    "df['is_short'] = df['runtime'] <= 90\n",
    "df.head()"
   ]
  },
  {
   "cell_type": "code",
   "execution_count": 21,
   "id": "b674adaa",
   "metadata": {},
   "outputs": [
    {
     "name": "stdout",
     "output_type": "stream",
     "text": [
      "There are 87 movies over 2.5 hours.\n",
      "There are 1745 movies under 1.5 hours.\n"
     ]
    }
   ],
   "source": [
    "#Separate into two groups\n",
    "long = df.loc[df['is_long'] == True, ['revenue', 'is_long']]\n",
    "short = df.loc[df['is_short'] == True, ['revenue', 'is_short']]\n",
    "print(f'There are {len(long)} movies over 2.5 hours.')\n",
    "print(f'There are {len(short)} movies under 1.5 hours.')"
   ]
  },
  {
   "cell_type": "code",
   "execution_count": 22,
   "id": "9ae53efd",
   "metadata": {},
   "outputs": [
    {
     "data": {
      "text/plain": [
       "233     215294342.0\n",
       "470             0.0\n",
       "579       4900000.0\n",
       "779      20908467.0\n",
       "1247    871368364.0\n",
       "Name: revenue, dtype: float64"
      ]
     },
     "metadata": {},
     "output_type": "display_data"
    },
    {
     "data": {
      "text/plain": [
       "5             0.0\n",
       "6             0.0\n",
       "10        14904.0\n",
       "12    224834564.0\n",
       "14            0.0\n",
       "Name: revenue, dtype: float64"
      ]
     },
     "metadata": {},
     "output_type": "display_data"
    }
   ],
   "source": [
    "#Create final groups\n",
    "long_group = long['revenue']\n",
    "short_group = short['revenue']\n",
    "display(long_group.head(), short_group.head())"
   ]
  },
  {
   "cell_type": "markdown",
   "id": "755ff03c",
   "metadata": {},
   "source": [
    "### Test Assumptions:\n",
    "\n",
    "- Assumptions of 2-sample independent t-test:\n",
    "    - No significant outliers\n",
    "    - Normality\n",
    "    - Equal variance"
   ]
  },
  {
   "cell_type": "code",
   "execution_count": 23,
   "id": "db7c995e",
   "metadata": {},
   "outputs": [
    {
     "data": {
      "text/plain": [
       "1"
      ]
     },
     "execution_count": 23,
     "metadata": {},
     "output_type": "execute_result"
    }
   ],
   "source": [
    "#Check for outliers in long group\n",
    "zscores_long = stats.zscore(long_group)\n",
    "outliers_long = abs(zscores_long)>3\n",
    "np.sum(outliers_long)"
   ]
  },
  {
   "cell_type": "code",
   "execution_count": 24,
   "id": "52947a47",
   "metadata": {},
   "outputs": [],
   "source": [
    "#Remove outliers\n",
    "long_group = long_group[(np.abs(stats.zscore(long_group)) < 3)]"
   ]
  },
  {
   "cell_type": "code",
   "execution_count": 25,
   "id": "6464e7f0",
   "metadata": {},
   "outputs": [
    {
     "data": {
      "text/plain": [
       "39"
      ]
     },
     "execution_count": 25,
     "metadata": {},
     "output_type": "execute_result"
    }
   ],
   "source": [
    "#Check for outliers in short group\n",
    "zscores_short = stats.zscore(short_group)\n",
    "outliers_short = abs(zscores_short)>3\n",
    "np.sum(outliers_short)"
   ]
  },
  {
   "cell_type": "code",
   "execution_count": 26,
   "id": "eba8a7b2",
   "metadata": {},
   "outputs": [],
   "source": [
    "#Remove outliers\n",
    "short_group = short_group[(np.abs(stats.zscore(short_group)) < 3)]"
   ]
  },
  {
   "cell_type": "code",
   "execution_count": 27,
   "id": "4fd2916d",
   "metadata": {},
   "outputs": [
    {
     "data": {
      "text/plain": [
       "NormaltestResult(statistic=33.59991495198197, pvalue=5.0567463768920685e-08)"
      ]
     },
     "execution_count": 27,
     "metadata": {},
     "output_type": "execute_result"
    }
   ],
   "source": [
    "#Normal test: long group\n",
    "result_long = stats.normaltest(long_group)\n",
    "result_long"
   ]
  },
  {
   "cell_type": "code",
   "execution_count": 28,
   "id": "10b8706f",
   "metadata": {},
   "outputs": [
    {
     "data": {
      "text/plain": [
       "NormaltestResult(statistic=1608.9047812236483, pvalue=0.0)"
      ]
     },
     "execution_count": 28,
     "metadata": {},
     "output_type": "execute_result"
    }
   ],
   "source": [
    "#Normal test: short group\n",
    "result_short = stats.normaltest(short_group)\n",
    "result_short"
   ]
  },
  {
   "cell_type": "markdown",
   "id": "23712a37",
   "metadata": {},
   "source": [
    "- We do not have normally distributed data, however, the sample sizes are large enough that we can continue with the test."
   ]
  },
  {
   "cell_type": "code",
   "execution_count": 29,
   "id": "25d0e675",
   "metadata": {},
   "outputs": [
    {
     "data": {
      "text/plain": [
       "LeveneResult(statistic=526.0086155133739, pvalue=2.8675811519777913e-102)"
      ]
     },
     "execution_count": 29,
     "metadata": {},
     "output_type": "execute_result"
    }
   ],
   "source": [
    "#Test for equal variance\n",
    "result = stats.levene(long_group, short_group)\n",
    "result"
   ]
  },
  {
   "cell_type": "markdown",
   "id": "e9d4dae6",
   "metadata": {},
   "source": [
    "- We also failed the equal variance assumption. Therefore, the final test to be executed will be a Welch's T-test with the equal_var = False parameter"
   ]
  },
  {
   "cell_type": "markdown",
   "id": "5b32dfaa",
   "metadata": {},
   "source": [
    "### Execute Test:\n",
    "\n",
    "- Welch's T-test"
   ]
  },
  {
   "cell_type": "code",
   "execution_count": 30,
   "id": "5dfbea51",
   "metadata": {},
   "outputs": [
    {
     "data": {
      "text/plain": [
       "Ttest_indResult(statistic=5.3276223339836015, pvalue=8.025516335064054e-07)"
      ]
     },
     "execution_count": 30,
     "metadata": {},
     "output_type": "execute_result"
    }
   ],
   "source": [
    "#Independent t-test with equal_var set to False\n",
    "result = stats.ttest_ind(long_group, short_group, equal_var = False)\n",
    "result"
   ]
  },
  {
   "cell_type": "markdown",
   "id": "462d6ee8",
   "metadata": {},
   "source": [
    "### Interpretation:\n",
    "\n",
    "- The p-value from the t-test is much less than 0.05, meaning we can reject the null hypothesis. There is a significant difference between the revenue generated by short movies vs. long movies."
   ]
  },
  {
   "cell_type": "markdown",
   "id": "4f49e410",
   "metadata": {},
   "source": [
    "### Supporting Visual:"
   ]
  },
  {
   "cell_type": "code",
   "execution_count": 54,
   "id": "8e096a99",
   "metadata": {},
   "outputs": [
    {
     "data": {
      "image/png": "[encoded data removed]",
      "text/plain": [
       "<Figure size 640x480 with 1 Axes>"
      ]
     },
     "metadata": {},
     "output_type": "display_data"
    }
   ],
   "source": [
    "#Regression plot of revenue and runtime\n",
    "ax = sns.scatterplot(data = df, x = 'runtime', y = 'revenue', hue= 'is_long')\n",
    "ax.set_title('Comparison of Runtime and Revenue');"
   ]
  },
  {
   "cell_type": "markdown",
   "id": "95668214",
   "metadata": {},
   "source": [
    "## Hypothesis Test 3:\n",
    "\n",
    "- Do movies with higher average votes generate more revenue than movies with lower average votes?"
   ]
  },
  {
   "cell_type": "markdown",
   "id": "87451c4f",
   "metadata": {},
   "source": [
    "### State Hypotheses:\n",
    "\n",
    "- Null: There is no difference in revenue between movies with large votes and movies with small votes.\n",
    "- Alternative: There is a significant difference between revenue generated between movies with large votes and movies with small votes.\n",
    "- Alpha = 0.05"
   ]
  },
  {
   "cell_type": "markdown",
   "id": "d90706e5",
   "metadata": {},
   "source": [
    "### Select Test:\n",
    "\n",
    "- Because we are comparing a numeric outcome (revenue) to a numeric value (average votes), I will use a 2-sample T-test. "
   ]
  },
  {
   "cell_type": "markdown",
   "id": "61af2ca2",
   "metadata": {},
   "source": [
    "### Select Groups:\n",
    "\n",
    "- Will split the data into two groups: movies with an average vote of > 5, and movies with an average vote of <= 5."
   ]
  },
  {
   "cell_type": "code",
   "execution_count": 32,
   "id": "15cc619c",
   "metadata": {},
   "outputs": [
    {
     "data": {
      "text/html": [
       "<div>\n",
       "<style scoped>\n",
       "    .dataframe tbody tr th:only-of-type {\n",
       "        vertical-align: middle;\n",
       "    }\n",
       "\n",
       "    .dataframe tbody tr th {\n",
       "        vertical-align: top;\n",
       "    }\n",
       "\n",
       "    .dataframe thead th {\n",
       "        text-align: right;\n",
       "    }\n",
       "</style>\n",
       "<table border=\"1\" class=\"dataframe\">\n",
       "  <thead>\n",
       "    <tr style=\"text-align: right;\">\n",
       "      <th></th>\n",
       "      <th>imdb_id</th>\n",
       "      <th>release_date</th>\n",
       "      <th>revenue</th>\n",
       "      <th>runtime</th>\n",
       "      <th>vote_average</th>\n",
       "      <th>vote_count</th>\n",
       "      <th>certification</th>\n",
       "      <th>is_long</th>\n",
       "      <th>is_short</th>\n",
       "      <th>high_votes</th>\n",
       "    </tr>\n",
       "  </thead>\n",
       "  <tbody>\n",
       "    <tr>\n",
       "      <th>3</th>\n",
       "      <td>tt0118694</td>\n",
       "      <td>2000-09-29</td>\n",
       "      <td>14204632.0</td>\n",
       "      <td>99.0</td>\n",
       "      <td>8.100</td>\n",
       "      <td>2298.0</td>\n",
       "      <td>PG</td>\n",
       "      <td>False</td>\n",
       "      <td>False</td>\n",
       "      <td>True</td>\n",
       "    </tr>\n",
       "    <tr>\n",
       "      <th>4</th>\n",
       "      <td>tt0118852</td>\n",
       "      <td>2000-09-02</td>\n",
       "      <td>0.0</td>\n",
       "      <td>99.0</td>\n",
       "      <td>6.642</td>\n",
       "      <td>53.0</td>\n",
       "      <td>R</td>\n",
       "      <td>False</td>\n",
       "      <td>False</td>\n",
       "      <td>True</td>\n",
       "    </tr>\n",
       "    <tr>\n",
       "      <th>5</th>\n",
       "      <td>tt0119273</td>\n",
       "      <td>2000-04-19</td>\n",
       "      <td>0.0</td>\n",
       "      <td>88.0</td>\n",
       "      <td>6.072</td>\n",
       "      <td>188.0</td>\n",
       "      <td>R</td>\n",
       "      <td>False</td>\n",
       "      <td>True</td>\n",
       "      <td>True</td>\n",
       "    </tr>\n",
       "    <tr>\n",
       "      <th>6</th>\n",
       "      <td>tt0119495</td>\n",
       "      <td>2000-08-24</td>\n",
       "      <td>0.0</td>\n",
       "      <td>86.0</td>\n",
       "      <td>0.000</td>\n",
       "      <td>0.0</td>\n",
       "      <td>R</td>\n",
       "      <td>False</td>\n",
       "      <td>True</td>\n",
       "      <td>False</td>\n",
       "    </tr>\n",
       "    <tr>\n",
       "      <th>10</th>\n",
       "      <td>tt0120467</td>\n",
       "      <td>2002-04-26</td>\n",
       "      <td>14904.0</td>\n",
       "      <td>87.0</td>\n",
       "      <td>5.500</td>\n",
       "      <td>44.0</td>\n",
       "      <td>R</td>\n",
       "      <td>False</td>\n",
       "      <td>True</td>\n",
       "      <td>True</td>\n",
       "    </tr>\n",
       "  </tbody>\n",
       "</table>\n",
       "</div>"
      ],
      "text/plain": [
       "      imdb_id release_date     revenue  runtime  vote_average  vote_count  \\\n",
       "3   tt0118694   2000-09-29  14204632.0     99.0         8.100      2298.0   \n",
       "4   tt0118852   2000-09-02         0.0     99.0         6.642        53.0   \n",
       "5   tt0119273   2000-04-19         0.0     88.0         6.072       188.0   \n",
       "6   tt0119495   2000-08-24         0.0     86.0         0.000         0.0   \n",
       "10  tt0120467   2002-04-26     14904.0     87.0         5.500        44.0   \n",
       "\n",
       "   certification  is_long  is_short  high_votes  \n",
       "3             PG    False     False        True  \n",
       "4              R    False     False        True  \n",
       "5              R    False      True        True  \n",
       "6              R    False      True       False  \n",
       "10             R    False      True        True  "
      ]
     },
     "execution_count": 32,
     "metadata": {},
     "output_type": "execute_result"
    }
   ],
   "source": [
    "#Add columns for high and low average votes\n",
    "df['high_votes'] = df['vote_average'] > 5\n",
    "df.head()"
   ]
  },
  {
   "cell_type": "code",
   "execution_count": 35,
   "id": "ac368a12",
   "metadata": {},
   "outputs": [
    {
     "name": "stdout",
     "output_type": "stream",
     "text": [
      "There are 3706 movies with average votes over 5.\n",
      "There are 1617 movies with average votes under 5.\n"
     ]
    }
   ],
   "source": [
    "#Separate into two groups\n",
    "high = df.loc[df['high_votes'] == True, ['revenue', 'high_votes']]\n",
    "low = df.loc[df['high_votes'] == False, ['revenue', 'high_votes']]\n",
    "print(f'There are {len(high)} movies with average votes over 5.')\n",
    "print(f'There are {len(low)} movies with average votes under 5.')"
   ]
  },
  {
   "cell_type": "code",
   "execution_count": 36,
   "id": "14dc6ef5",
   "metadata": {},
   "outputs": [
    {
     "data": {
      "text/plain": [
       "3      14204632.0\n",
       "4             0.0\n",
       "5             0.0\n",
       "10        14904.0\n",
       "12    224834564.0\n",
       "Name: revenue, dtype: float64"
      ]
     },
     "metadata": {},
     "output_type": "display_data"
    },
    {
     "data": {
      "text/plain": [
       "6            0.0\n",
       "20           0.0\n",
       "23           0.0\n",
       "27    35134820.0\n",
       "34    14828081.0\n",
       "Name: revenue, dtype: float64"
      ]
     },
     "metadata": {},
     "output_type": "display_data"
    }
   ],
   "source": [
    "#Create final groups\n",
    "high_group = high['revenue']\n",
    "low_group = low['revenue']\n",
    "display(high_group.head(), low_group.head())"
   ]
  },
  {
   "cell_type": "markdown",
   "id": "b29f82ee",
   "metadata": {},
   "source": [
    "### Test Assumptions:\n",
    "\n",
    "- Assumptions of 2-sample independent t-test:\n",
    "    - No significant outliers\n",
    "    - Normality\n",
    "    - Equal variance"
   ]
  },
  {
   "cell_type": "code",
   "execution_count": 37,
   "id": "5bdced0a",
   "metadata": {},
   "outputs": [
    {
     "data": {
      "text/plain": [
       "76"
      ]
     },
     "execution_count": 37,
     "metadata": {},
     "output_type": "execute_result"
    }
   ],
   "source": [
    "#Check for outliers in high group\n",
    "zscores_high = stats.zscore(high_group)\n",
    "outliers_high = abs(zscores_high)>3\n",
    "np.sum(outliers_high)"
   ]
  },
  {
   "cell_type": "code",
   "execution_count": 38,
   "id": "9847a85d",
   "metadata": {},
   "outputs": [],
   "source": [
    "#Remove outliers\n",
    "high_group = high_group[(np.abs(stats.zscore(high_group)) < 3)]"
   ]
  },
  {
   "cell_type": "code",
   "execution_count": 39,
   "id": "466c5356",
   "metadata": {},
   "outputs": [
    {
     "data": {
      "text/plain": [
       "30"
      ]
     },
     "execution_count": 39,
     "metadata": {},
     "output_type": "execute_result"
    }
   ],
   "source": [
    "#Check for outliers in low group\n",
    "zscores_low = stats.zscore(low_group)\n",
    "outliers_low = abs(zscores_low)>3\n",
    "np.sum(outliers_low)"
   ]
  },
  {
   "cell_type": "code",
   "execution_count": 40,
   "id": "8f29a953",
   "metadata": {},
   "outputs": [],
   "source": [
    "#Remove outliers\n",
    "low_group = low_group[(np.abs(stats.zscore(low_group)) < 3)]"
   ]
  },
  {
   "cell_type": "code",
   "execution_count": 41,
   "id": "ecbf1e15",
   "metadata": {},
   "outputs": [
    {
     "data": {
      "text/plain": [
       "NormaltestResult(statistic=2182.322593894088, pvalue=0.0)"
      ]
     },
     "execution_count": 41,
     "metadata": {},
     "output_type": "execute_result"
    }
   ],
   "source": [
    "#Normal test: high group\n",
    "result_high = stats.normaltest(high_group)\n",
    "result_high"
   ]
  },
  {
   "cell_type": "code",
   "execution_count": 42,
   "id": "1f327a31",
   "metadata": {},
   "outputs": [
    {
     "data": {
      "text/plain": [
       "NormaltestResult(statistic=1906.439617375817, pvalue=0.0)"
      ]
     },
     "execution_count": 42,
     "metadata": {},
     "output_type": "execute_result"
    }
   ],
   "source": [
    "#Normal test: low group\n",
    "result_low = stats.normaltest(low_group)\n",
    "result_low"
   ]
  },
  {
   "cell_type": "markdown",
   "id": "20403576",
   "metadata": {},
   "source": [
    "- We do not have normally distributed data, however, we can continue as usual because our groups are large enough."
   ]
  },
  {
   "cell_type": "code",
   "execution_count": 43,
   "id": "7eee775e",
   "metadata": {},
   "outputs": [
    {
     "data": {
      "text/plain": [
       "LeveneResult(statistic=390.0110920742335, pvalue=8.87961489192778e-84)"
      ]
     },
     "execution_count": 43,
     "metadata": {},
     "output_type": "execute_result"
    }
   ],
   "source": [
    "#Test for equal variance\n",
    "result = stats.levene(high_group, low_group)\n",
    "result"
   ]
  },
  {
   "cell_type": "markdown",
   "id": "11092b6d",
   "metadata": {},
   "source": [
    "- Again, we do not have equal variance and must the Welch's T-test."
   ]
  },
  {
   "cell_type": "markdown",
   "id": "23413e59",
   "metadata": {},
   "source": [
    "### Execute Test:\n",
    "\n",
    "- Welch's T-test"
   ]
  },
  {
   "cell_type": "code",
   "execution_count": 44,
   "id": "351c2783",
   "metadata": {},
   "outputs": [
    {
     "data": {
      "text/plain": [
       "Ttest_indResult(statistic=29.752777913396994, pvalue=2.3774303308393157e-174)"
      ]
     },
     "execution_count": 44,
     "metadata": {},
     "output_type": "execute_result"
    }
   ],
   "source": [
    "#Independent t-test with equal_var set to False\n",
    "result = stats.ttest_ind(high_group, low_group, equal_var = False)\n",
    "result"
   ]
  },
  {
   "cell_type": "markdown",
   "id": "c7f2ab1d",
   "metadata": {},
   "source": [
    "### Interpretation:\n",
    "\n",
    "- The p-value is much smaller than 0.05, which means we can reject the null hypothesis. There is a significant difference in revenue generated by movies with higher average votes than lower average votes."
   ]
  },
  {
   "cell_type": "markdown",
   "id": "26ca01bf",
   "metadata": {},
   "source": [
    "### Supporting Visual"
   ]
  },
  {
   "cell_type": "code",
   "execution_count": 48,
   "id": "5645f767",
   "metadata": {},
   "outputs": [
    {
     "data": {
      "image/png": "[encoded data removed]",
      "text/plain": [
       "<Figure size 640x480 with 1 Axes>"
      ]
     },
     "metadata": {},
     "output_type": "display_data"
    }
   ],
   "source": [
    "#Scatterplot of average votes\n",
    "ax = sns.scatterplot(data= df, x= 'vote_average', y= 'revenue', hue= 'high_votes')\n",
    "ax.set_title('Comparison of Average Votes and Revenue');"
   ]
  },
  {
   "cell_type": "code",
   "execution_count": null,
   "id": "7fedf962",
   "metadata": {},
   "outputs": [],
   "source": []
  }
 ],
 "metadata": {
  "kernelspec": {
   "display_name": "Python (dojo-env)",
   "language": "python",
   "name": "dojo-env"
  },
  "language_info": {
   "codemirror_mode": {
    "name": "ipython",
    "version": 3
   },
   "file_extension": ".py",
   "mimetype": "text/x-python",
   "name": "python",
   "nbconvert_exporter": "python",
   "pygments_lexer": "ipython3",
   "version": "3.9.15"
  },
  "toc": {
   "base_numbering": 1,
   "nav_menu": {},
   "number_sections": false,
   "sideBar": true,
   "skip_h1_title": false,
   "title_cell": "Table of Contents",
   "title_sidebar": "Contents",
   "toc_cell": false,
   "toc_position": {},
   "toc_section_display": true,
   "toc_window_display": false
  }
 },
 "nbformat": 4,
 "nbformat_minor": 5
}
